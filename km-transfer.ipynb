{
  "nbformat": 4,
  "nbformat_minor": 0,
  "metadata": {
    "kernelspec": {
      "name": "python3",
      "display_name": "Python 3"
    },
    "language_info": {
      "codemirror_mode": {
        "name": "ipython",
        "version": 3
      },
      "file_extension": ".py",
      "mimetype": "text/x-python",
      "name": "python",
      "nbconvert_exporter": "python",
      "pygments_lexer": "ipython3",
      "version": "3.6.5"
    },
    "colab": {
      "name": "Transfer Learning in Keras using MobileNet.ipynb",
      "provenance": []
    },
    "accelerator": "GPU"
  },
  "cells": [
    {
      "cell_type": "markdown",
      "metadata": {
        "id": "8izts-5Vr2XC",
        "colab_type": "text"
      },
      "source": [
        "# Keras Mobilenet 版的遷移學習範例 #\n",
        "完整說明請見 [我的中文教學文]()。 本文件修改自 [erhat00/Deep-Learning](https://github.com/ferhat00/Deep-Learning/tree/master/Transfer%20Learning%20CNN)\n",
        "也大推原作者的 [教學文](https://towardsdatascience.com/transfer-learning-using-mobilenet-and-keras-c75daf7ff299)。 "
      ]
    },
    {
      "cell_type": "markdown",
      "metadata": {
        "id": "kv-Kc_fDnEZB",
        "colab_type": "text"
      },
      "source": [
        "前置作業：\n",
        "1. 從 colab 的 Edit => Notebook Settings 進去，把 Hardware accelerator 設定成 GPU。\n",
        "1. 把 ... 上傳到你的 google drive， 放在 ... 目錄下。\n",
        "1. 掛載 google drive："
      ]
    },
    {
      "cell_type": "code",
      "metadata": {
        "id": "j83TEIV3j9Pn",
        "colab_type": "code",
        "outputId": "87823802-b524-4eee-d75f-676cb4fa8227",
        "colab": {
          "base_uri": "https://localhost:8080/",
          "height": 34
        }
      },
      "source": [
        "from google.colab import drive\n",
        "drive.mount('/content/drive/')"
      ],
      "execution_count": 0,
      "outputs": [
        {
          "output_type": "stream",
          "text": [
            "Mounted at /content/drive/\n"
          ],
          "name": "stdout"
        }
      ]
    },
    {
      "cell_type": "code",
      "metadata": {
        "id": "GchYnJcwlIO3",
        "colab_type": "code",
        "colab": {}
      },
      "source": [
        "import os\n",
        "os.chdir('/content/drive/My Drive/colab/ferhat00-keras-mobilenet/Transfer Learning CNN')"
      ],
      "execution_count": 0,
      "outputs": []
    },
    {
      "cell_type": "markdown",
      "metadata": {
        "id": "t8k_Vjvsr2XD",
        "colab_type": "text"
      },
      "source": [
        "載入相依套件："
      ]
    },
    {
      "cell_type": "code",
      "metadata": {
        "id": "LtwvE_aNr2XF",
        "colab_type": "code",
        "outputId": "a26665a1-ac49-4093-c145-c8493164c7b1",
        "colab": {
          "base_uri": "https://localhost:8080/",
          "height": 34
        }
      },
      "source": [
        "import keras\n",
        "from keras import backend as K\n",
        "from keras.layers.core import Dense, Activation\n",
        "from keras.optimizers import Adam\n",
        "from keras.metrics import categorical_crossentropy\n",
        "from keras.preprocessing.image import ImageDataGenerator\n",
        "from keras.preprocessing import image\n",
        "from keras.models import Model\n",
        "from keras.applications import imagenet_utils\n",
        "from keras.layers import Dense,GlobalAveragePooling2D\n",
        "from keras.applications import MobileNet\n",
        "from keras.applications.mobilenet import preprocess_input\n",
        "import numpy as np\n",
        "from IPython.display import Image\n",
        "from keras.optimizers import Adam\n"
      ],
      "execution_count": 0,
      "outputs": [
        {
          "output_type": "stream",
          "text": [
            "Using TensorFlow backend.\n"
          ],
          "name": "stderr"
        }
      ]
    },
    {
      "cell_type": "markdown",
      "metadata": {
        "id": "rMc-y1Z-r2XK",
        "colab_type": "text"
      },
      "source": [
        "建立 MobileNet。 原始論文： [MobileNets: Efficient Convolutional Neural Networks for Mobile Vision\n",
        "Applications, Howard et al, 2017\n",
        "](https://arxiv.org/pdf/1704.04861.pdf)\n"
      ]
    },
    {
      "cell_type": "code",
      "metadata": {
        "id": "OfFYitWJr2XL",
        "colab_type": "code",
        "outputId": "ca7f2610-fd81-4e55-fcaf-524b782d49f5",
        "colab": {
          "base_uri": "https://localhost:8080/",
          "height": 490
        }
      },
      "source": [
        "mobile = keras.applications.mobilenet.MobileNet()"
      ],
      "execution_count": 0,
      "outputs": [
        {
          "output_type": "stream",
          "text": [
            "WARNING:tensorflow:From /usr/local/lib/python3.6/dist-packages/keras/backend/tensorflow_backend.py:66: The name tf.get_default_graph is deprecated. Please use tf.compat.v1.get_default_graph instead.\n",
            "\n",
            "WARNING:tensorflow:From /usr/local/lib/python3.6/dist-packages/keras/backend/tensorflow_backend.py:541: The name tf.placeholder is deprecated. Please use tf.compat.v1.placeholder instead.\n",
            "\n",
            "WARNING:tensorflow:From /usr/local/lib/python3.6/dist-packages/keras/backend/tensorflow_backend.py:4432: The name tf.random_uniform is deprecated. Please use tf.random.uniform instead.\n",
            "\n",
            "WARNING:tensorflow:From /usr/local/lib/python3.6/dist-packages/keras/backend/tensorflow_backend.py:190: The name tf.get_default_session is deprecated. Please use tf.compat.v1.get_default_session instead.\n",
            "\n",
            "WARNING:tensorflow:From /usr/local/lib/python3.6/dist-packages/keras/backend/tensorflow_backend.py:197: The name tf.ConfigProto is deprecated. Please use tf.compat.v1.ConfigProto instead.\n",
            "\n",
            "WARNING:tensorflow:From /usr/local/lib/python3.6/dist-packages/keras/backend/tensorflow_backend.py:203: The name tf.Session is deprecated. Please use tf.compat.v1.Session instead.\n",
            "\n",
            "WARNING:tensorflow:From /usr/local/lib/python3.6/dist-packages/keras/backend/tensorflow_backend.py:207: The name tf.global_variables is deprecated. Please use tf.compat.v1.global_variables instead.\n",
            "\n",
            "WARNING:tensorflow:From /usr/local/lib/python3.6/dist-packages/keras/backend/tensorflow_backend.py:216: The name tf.is_variable_initialized is deprecated. Please use tf.compat.v1.is_variable_initialized instead.\n",
            "\n",
            "WARNING:tensorflow:From /usr/local/lib/python3.6/dist-packages/keras/backend/tensorflow_backend.py:223: The name tf.variables_initializer is deprecated. Please use tf.compat.v1.variables_initializer instead.\n",
            "\n",
            "WARNING:tensorflow:From /usr/local/lib/python3.6/dist-packages/keras/backend/tensorflow_backend.py:2041: The name tf.nn.fused_batch_norm is deprecated. Please use tf.compat.v1.nn.fused_batch_norm instead.\n",
            "\n",
            "WARNING:tensorflow:From /usr/local/lib/python3.6/dist-packages/keras/backend/tensorflow_backend.py:148: The name tf.placeholder_with_default is deprecated. Please use tf.compat.v1.placeholder_with_default instead.\n",
            "\n",
            "WARNING:tensorflow:From /usr/local/lib/python3.6/dist-packages/keras/backend/tensorflow_backend.py:3733: calling dropout (from tensorflow.python.ops.nn_ops) with keep_prob is deprecated and will be removed in a future version.\n",
            "Instructions for updating:\n",
            "Please use `rate` instead of `keep_prob`. Rate should be set to `rate = 1 - keep_prob`.\n",
            "Downloading data from https://github.com/fchollet/deep-learning-models/releases/download/v0.6/mobilenet_1_0_224_tf.h5\n",
            "17227776/17225924 [==============================] - 1s 0us/step\n"
          ],
          "name": "stdout"
        }
      ]
    },
    {
      "cell_type": "code",
      "metadata": {
        "id": "jD7vRMtqsShg",
        "colab_type": "code",
        "outputId": "194059fa-25af-4838-d6cf-4f2ba5833b34",
        "colab": {
          "base_uri": "https://localhost:8080/",
          "height": 50
        }
      },
      "source": [
        "!ls -l /root/.keras/models"
      ],
      "execution_count": 0,
      "outputs": [
        {
          "output_type": "stream",
          "text": [
            "total 16824\n",
            "-rw-r--r-- 1 root root 17225924 Oct 11 13:27 mobilenet_1_0_224_tf.h5\n"
          ],
          "name": "stdout"
        }
      ]
    },
    {
      "cell_type": "code",
      "metadata": {
        "id": "qdQSywYCr2XN",
        "colab_type": "code",
        "colab": {}
      },
      "source": [
        "def prepare_image(image_path, show=True):\n",
        "    img = image.load_img(image_path, target_size=(224, 224))\n",
        "    img_array = image.img_to_array(img)\n",
        "    img_array_expanded_dims = np.expand_dims(img_array, axis=0)\n",
        "    if show:\n",
        "        display(Image(filename=image_path))\n",
        "    return keras.applications.mobilenet.preprocess_input(img_array_expanded_dims)\n",
        "\n",
        "def mobile_cl(image_path, show=True):\n",
        "    prepared = prepare_image(image_path)\n",
        "    ans = mobile.predict(prepared)\n",
        "    return imagenet_utils.decode_predictions(ans)\n"
      ],
      "execution_count": 0,
      "outputs": []
    },
    {
      "cell_type": "markdown",
      "metadata": {
        "id": "-UdqrQuqr2XQ",
        "colab_type": "text"
      },
      "source": [
        "以下幾張圖片的狗狗所屬的品種都落在 [1000類標籤](https://storage.googleapis.com/download.tensorflow.org/data/imagenet_class_index.json) 當中："
      ]
    },
    {
      "cell_type": "code",
      "metadata": {
        "id": "WuPEZ0rVr2XR",
        "colab_type": "code",
        "colab": {}
      },
      "source": [
        "mobile_cl('German_Shepherd.jpg')"
      ],
      "execution_count": 0,
      "outputs": []
    },
    {
      "cell_type": "code",
      "metadata": {
        "id": "zARX7q2Tr2XZ",
        "colab_type": "code",
        "colab": {}
      },
      "source": [
        "mobile_cl('labrador1.jpg')"
      ],
      "execution_count": 0,
      "outputs": []
    },
    {
      "cell_type": "code",
      "metadata": {
        "id": "_K-qs1zJr2Xe",
        "colab_type": "code",
        "colab": {}
      },
      "source": [
        "mobile_cl('poodle1.jpg') "
      ],
      "execution_count": 0,
      "outputs": []
    },
    {
      "cell_type": "markdown",
      "metadata": {
        "id": "2SN6sDxmr2Xk",
        "colab_type": "text"
      },
      "source": [
        "但是1000類標籤竟然不包含可愛的柴犬！"
      ]
    },
    {
      "cell_type": "code",
      "metadata": {
        "id": "YR0MrdE3r2Xl",
        "colab_type": "code",
        "colab": {}
      },
      "source": [
        "mobile_cl('shiba-inu.jpg') "
      ],
      "execution_count": 0,
      "outputs": []
    },
    {
      "cell_type": "markdown",
      "metadata": {
        "id": "2Sl9EdQar2Xr",
        "colab_type": "text"
      },
      "source": [
        "以下要把 MobileNet 來做遷移學習， 改訓練成狗狗動作判別器， 判斷一張圖片當中的狗正在做哪一件事： [其他、 跳、 睡、 游泳、 甩水、 伸展、 尿尿] 把底層的權重凍結起來、 最上面(最下游)那一層替換成三層 fully connected layers。"
      ]
    },
    {
      "cell_type": "code",
      "metadata": {
        "id": "P7OTL7Ger2YC",
        "colab_type": "code",
        "outputId": "7a592eb4-98f1-4a43-d667-66d24595b463",
        "colab": {
          "base_uri": "https://localhost:8080/",
          "height": 104
        }
      },
      "source": [
        "base_model=MobileNet(weights='imagenet',include_top=False) #imports the mobilenet model and discards the last 1000 neuron layer.\n",
        "\n",
        "x=base_model.output\n",
        "x=GlobalAveragePooling2D()(x)\n",
        "x=Dense(1024,activation='relu')(x) #we add dense layers so that the model can learn more complex functions and classify for better results.\n",
        "x=Dense(1024,activation='relu')(x) #dense layer 2\n",
        "x=Dense(512,activation='relu')(x) #dense layer 3\n",
        "preds=Dense(7,activation='softmax')(x) #final layer with softmax activation"
      ],
      "execution_count": 0,
      "outputs": [
        {
          "output_type": "stream",
          "text": [
            "/usr/local/lib/python3.6/dist-packages/keras_applications/mobilenet.py:207: UserWarning: `input_shape` is undefined or non-square, or `rows` is not in [128, 160, 192, 224]. Weights for input shape (224, 224) will be loaded as the default.\n",
            "  warnings.warn('`input_shape` is undefined or non-square, '\n"
          ],
          "name": "stderr"
        },
        {
          "output_type": "stream",
          "text": [
            "Downloading data from https://github.com/fchollet/deep-learning-models/releases/download/v0.6/mobilenet_1_0_224_tf_no_top.h5\n",
            "17227776/17225924 [==============================] - 3s 0us/step\n"
          ],
          "name": "stdout"
        }
      ]
    },
    {
      "cell_type": "code",
      "metadata": {
        "id": "EEjIc3xlr2YF",
        "colab_type": "code",
        "colab": {}
      },
      "source": [
        "dog_behavior = Model(inputs=base_model.input,outputs=preds)\n",
        "#specify the inputs\n",
        "#specify the outputs\n",
        "#now a model has been created based on our architecture"
      ],
      "execution_count": 0,
      "outputs": []
    },
    {
      "cell_type": "code",
      "metadata": {
        "id": "KaaJrUpmIo_V",
        "colab_type": "code",
        "outputId": "9c00c209-371e-4a8a-d3d9-f0fee9550790",
        "colab": {
          "base_uri": "https://localhost:8080/",
          "height": 1000
        }
      },
      "source": [
        "from IPython.display import SVG\n",
        "from keras.utils.vis_utils import model_to_dot\n",
        "\n",
        "model_dot = model_to_dot(dog_behavior)\n",
        "model_dot.set_size('30')\n",
        "SVG(model_dot.create(prog='dot', format='svg'))\n"
      ],
      "execution_count": 0,
      "outputs": [
        {
          "output_type": "execute_result",
          "data": {
            "text/plain": [
              "<IPython.core.display.SVG object>"
            ],
            "image/svg+xml": "<svg height=\"2880pt\" viewBox=\"0.00 0.00 113.68 2160.00\" width=\"152pt\" xmlns=\"http://www.w3.org/2000/svg\" xmlns:xlink=\"http://www.w3.org/1999/xlink\">\n<g class=\"graph\" id=\"graph0\" transform=\"scale(.4306 .4306) rotate(0) translate(4 6684)\">\n<title>G</title>\n<polygon fill=\"#ffffff\" points=\"-4,4 -4,-6684 348,-6684 348,4 -4,4\" stroke=\"transparent\"/>\n<!-- 140586094411672 -->\n<g class=\"node\" id=\"node1\">\n<title>140586094411672</title>\n<polygon fill=\"none\" points=\"105.5,-6643.5 105.5,-6679.5 238.5,-6679.5 238.5,-6643.5 105.5,-6643.5\" stroke=\"#000000\"/>\n<text fill=\"#000000\" font-family=\"Times,serif\" font-size=\"14.00\" text-anchor=\"middle\" x=\"172\" y=\"-6657.8\">input_2: InputLayer</text>\n</g>\n<!-- 140586093640392 -->\n<g class=\"node\" id=\"node2\">\n<title>140586093640392</title>\n<polygon fill=\"none\" points=\"81,-6570.5 81,-6606.5 263,-6606.5 263,-6570.5 81,-6570.5\" stroke=\"#000000\"/>\n<text fill=\"#000000\" font-family=\"Times,serif\" font-size=\"14.00\" text-anchor=\"middle\" x=\"172\" y=\"-6584.8\">conv1_pad: ZeroPadding2D</text>\n</g>\n<!-- 140586094411672&#45;&gt;140586093640392 -->\n<g class=\"edge\" id=\"edge1\">\n<title>140586094411672-&gt;140586093640392</title>\n<path d=\"M172,-6643.4551C172,-6635.3828 172,-6625.6764 172,-6616.6817\" fill=\"none\" stroke=\"#000000\"/>\n<polygon fill=\"#000000\" points=\"175.5001,-6616.5903 172,-6606.5904 168.5001,-6616.5904 175.5001,-6616.5903\" stroke=\"#000000\"/>\n</g>\n<!-- 140586093640672 -->\n<g class=\"node\" id=\"node3\">\n<title>140586093640672</title>\n<polygon fill=\"none\" points=\"117,-6497.5 117,-6533.5 227,-6533.5 227,-6497.5 117,-6497.5\" stroke=\"#000000\"/>\n<text fill=\"#000000\" font-family=\"Times,serif\" font-size=\"14.00\" text-anchor=\"middle\" x=\"172\" y=\"-6511.8\">conv1: Conv2D</text>\n</g>\n<!-- 140586093640392&#45;&gt;140586093640672 -->\n<g class=\"edge\" id=\"edge2\">\n<title>140586093640392-&gt;140586093640672</title>\n<path d=\"M172,-6570.4551C172,-6562.3828 172,-6552.6764 172,-6543.6817\" fill=\"none\" stroke=\"#000000\"/>\n<polygon fill=\"#000000\" points=\"175.5001,-6543.5903 172,-6533.5904 168.5001,-6543.5904 175.5001,-6543.5903\" stroke=\"#000000\"/>\n</g>\n<!-- 140586093740832 -->\n<g class=\"node\" id=\"node4\">\n<title>140586093740832</title>\n<polygon fill=\"none\" points=\"73.5,-6424.5 73.5,-6460.5 270.5,-6460.5 270.5,-6424.5 73.5,-6424.5\" stroke=\"#000000\"/>\n<text fill=\"#000000\" font-family=\"Times,serif\" font-size=\"14.00\" text-anchor=\"middle\" x=\"172\" y=\"-6438.8\">conv1_bn: BatchNormalization</text>\n</g>\n<!-- 140586093640672&#45;&gt;140586093740832 -->\n<g class=\"edge\" id=\"edge3\">\n<title>140586093640672-&gt;140586093740832</title>\n<path d=\"M172,-6497.4551C172,-6489.3828 172,-6479.6764 172,-6470.6817\" fill=\"none\" stroke=\"#000000\"/>\n<polygon fill=\"#000000\" points=\"175.5001,-6470.5903 172,-6460.5904 168.5001,-6470.5904 175.5001,-6470.5903\" stroke=\"#000000\"/>\n</g>\n<!-- 140586093743296 -->\n<g class=\"node\" id=\"node5\">\n<title>140586093743296</title>\n<polygon fill=\"none\" points=\"109.5,-6351.5 109.5,-6387.5 234.5,-6387.5 234.5,-6351.5 109.5,-6351.5\" stroke=\"#000000\"/>\n<text fill=\"#000000\" font-family=\"Times,serif\" font-size=\"14.00\" text-anchor=\"middle\" x=\"172\" y=\"-6365.8\">conv1_relu: ReLU</text>\n</g>\n<!-- 140586093740832&#45;&gt;140586093743296 -->\n<g class=\"edge\" id=\"edge4\">\n<title>140586093740832-&gt;140586093743296</title>\n<path d=\"M172,-6424.4551C172,-6416.3828 172,-6406.6764 172,-6397.6817\" fill=\"none\" stroke=\"#000000\"/>\n<polygon fill=\"#000000\" points=\"175.5001,-6397.5903 172,-6387.5904 168.5001,-6397.5904 175.5001,-6397.5903\" stroke=\"#000000\"/>\n</g>\n<!-- 140586093743912 -->\n<g class=\"node\" id=\"node6\">\n<title>140586093743912</title>\n<polygon fill=\"none\" points=\"70,-6278.5 70,-6314.5 274,-6314.5 274,-6278.5 70,-6278.5\" stroke=\"#000000\"/>\n<text fill=\"#000000\" font-family=\"Times,serif\" font-size=\"14.00\" text-anchor=\"middle\" x=\"172\" y=\"-6292.8\">conv_dw_1: DepthwiseConv2D</text>\n</g>\n<!-- 140586093743296&#45;&gt;140586093743912 -->\n<g class=\"edge\" id=\"edge5\">\n<title>140586093743296-&gt;140586093743912</title>\n<path d=\"M172,-6351.4551C172,-6343.3828 172,-6333.6764 172,-6324.6817\" fill=\"none\" stroke=\"#000000\"/>\n<polygon fill=\"#000000\" points=\"175.5001,-6324.5903 172,-6314.5904 168.5001,-6324.5904 175.5001,-6324.5903\" stroke=\"#000000\"/>\n</g>\n<!-- 140586093378864 -->\n<g class=\"node\" id=\"node7\">\n<title>140586093378864</title>\n<polygon fill=\"none\" points=\"57,-6205.5 57,-6241.5 287,-6241.5 287,-6205.5 57,-6205.5\" stroke=\"#000000\"/>\n<text fill=\"#000000\" font-family=\"Times,serif\" font-size=\"14.00\" text-anchor=\"middle\" x=\"172\" y=\"-6219.8\">conv_dw_1_bn: BatchNormalization</text>\n</g>\n<!-- 140586093743912&#45;&gt;140586093378864 -->\n<g class=\"edge\" id=\"edge6\">\n<title>140586093743912-&gt;140586093378864</title>\n<path d=\"M172,-6278.4551C172,-6270.3828 172,-6260.6764 172,-6251.6817\" fill=\"none\" stroke=\"#000000\"/>\n<polygon fill=\"#000000\" points=\"175.5001,-6251.5903 172,-6241.5904 168.5001,-6251.5904 175.5001,-6251.5903\" stroke=\"#000000\"/>\n</g>\n<!-- 140586093403944 -->\n<g class=\"node\" id=\"node8\">\n<title>140586093403944</title>\n<polygon fill=\"none\" points=\"93,-6132.5 93,-6168.5 251,-6168.5 251,-6132.5 93,-6132.5\" stroke=\"#000000\"/>\n<text fill=\"#000000\" font-family=\"Times,serif\" font-size=\"14.00\" text-anchor=\"middle\" x=\"172\" y=\"-6146.8\">conv_dw_1_relu: ReLU</text>\n</g>\n<!-- 140586093378864&#45;&gt;140586093403944 -->\n<g class=\"edge\" id=\"edge7\">\n<title>140586093378864-&gt;140586093403944</title>\n<path d=\"M172,-6205.4551C172,-6197.3828 172,-6187.6764 172,-6178.6817\" fill=\"none\" stroke=\"#000000\"/>\n<polygon fill=\"#000000\" points=\"175.5001,-6178.5903 172,-6168.5904 168.5001,-6178.5904 175.5001,-6178.5903\" stroke=\"#000000\"/>\n</g>\n<!-- 140586093431552 -->\n<g class=\"node\" id=\"node9\">\n<title>140586093431552</title>\n<polygon fill=\"none\" points=\"100.5,-6059.5 100.5,-6095.5 243.5,-6095.5 243.5,-6059.5 100.5,-6059.5\" stroke=\"#000000\"/>\n<text fill=\"#000000\" font-family=\"Times,serif\" font-size=\"14.00\" text-anchor=\"middle\" x=\"172\" y=\"-6073.8\">conv_pw_1: Conv2D</text>\n</g>\n<!-- 140586093403944&#45;&gt;140586093431552 -->\n<g class=\"edge\" id=\"edge8\">\n<title>140586093403944-&gt;140586093431552</title>\n<path d=\"M172,-6132.4551C172,-6124.3828 172,-6114.6764 172,-6105.6817\" fill=\"none\" stroke=\"#000000\"/>\n<polygon fill=\"#000000\" points=\"175.5001,-6105.5903 172,-6095.5904 168.5001,-6105.5904 175.5001,-6105.5903\" stroke=\"#000000\"/>\n</g>\n<!-- 140586093117392 -->\n<g class=\"node\" id=\"node10\">\n<title>140586093117392</title>\n<polygon fill=\"none\" points=\"57,-5986.5 57,-6022.5 287,-6022.5 287,-5986.5 57,-5986.5\" stroke=\"#000000\"/>\n<text fill=\"#000000\" font-family=\"Times,serif\" font-size=\"14.00\" text-anchor=\"middle\" x=\"172\" y=\"-6000.8\">conv_pw_1_bn: BatchNormalization</text>\n</g>\n<!-- 140586093431552&#45;&gt;140586093117392 -->\n<g class=\"edge\" id=\"edge9\">\n<title>140586093431552-&gt;140586093117392</title>\n<path d=\"M172,-6059.4551C172,-6051.3828 172,-6041.6764 172,-6032.6817\" fill=\"none\" stroke=\"#000000\"/>\n<polygon fill=\"#000000\" points=\"175.5001,-6032.5903 172,-6022.5904 168.5001,-6032.5904 175.5001,-6032.5903\" stroke=\"#000000\"/>\n</g>\n<!-- 140586093115992 -->\n<g class=\"node\" id=\"node11\">\n<title>140586093115992</title>\n<polygon fill=\"none\" points=\"93,-5913.5 93,-5949.5 251,-5949.5 251,-5913.5 93,-5913.5\" stroke=\"#000000\"/>\n<text fill=\"#000000\" font-family=\"Times,serif\" font-size=\"14.00\" text-anchor=\"middle\" x=\"172\" y=\"-5927.8\">conv_pw_1_relu: ReLU</text>\n</g>\n<!-- 140586093117392&#45;&gt;140586093115992 -->\n<g class=\"edge\" id=\"edge10\">\n<title>140586093117392-&gt;140586093115992</title>\n<path d=\"M172,-5986.4551C172,-5978.3828 172,-5968.6764 172,-5959.6817\" fill=\"none\" stroke=\"#000000\"/>\n<polygon fill=\"#000000\" points=\"175.5001,-5959.5903 172,-5949.5904 168.5001,-5959.5904 175.5001,-5959.5903\" stroke=\"#000000\"/>\n</g>\n<!-- 140586093137760 -->\n<g class=\"node\" id=\"node12\">\n<title>140586093137760</title>\n<polygon fill=\"none\" points=\"77.5,-5840.5 77.5,-5876.5 266.5,-5876.5 266.5,-5840.5 77.5,-5840.5\" stroke=\"#000000\"/>\n<text fill=\"#000000\" font-family=\"Times,serif\" font-size=\"14.00\" text-anchor=\"middle\" x=\"172\" y=\"-5854.8\">conv_pad_2: ZeroPadding2D</text>\n</g>\n<!-- 140586093115992&#45;&gt;140586093137760 -->\n<g class=\"edge\" id=\"edge11\">\n<title>140586093115992-&gt;140586093137760</title>\n<path d=\"M172,-5913.4551C172,-5905.3828 172,-5895.6764 172,-5886.6817\" fill=\"none\" stroke=\"#000000\"/>\n<polygon fill=\"#000000\" points=\"175.5001,-5886.5903 172,-5876.5904 168.5001,-5886.5904 175.5001,-5886.5903\" stroke=\"#000000\"/>\n</g>\n<!-- 140586093203352 -->\n<g class=\"node\" id=\"node13\">\n<title>140586093203352</title>\n<polygon fill=\"none\" points=\"70,-5767.5 70,-5803.5 274,-5803.5 274,-5767.5 70,-5767.5\" stroke=\"#000000\"/>\n<text fill=\"#000000\" font-family=\"Times,serif\" font-size=\"14.00\" text-anchor=\"middle\" x=\"172\" y=\"-5781.8\">conv_dw_2: DepthwiseConv2D</text>\n</g>\n<!-- 140586093137760&#45;&gt;140586093203352 -->\n<g class=\"edge\" id=\"edge12\">\n<title>140586093137760-&gt;140586093203352</title>\n<path d=\"M172,-5840.4551C172,-5832.3828 172,-5822.6764 172,-5813.6817\" fill=\"none\" stroke=\"#000000\"/>\n<polygon fill=\"#000000\" points=\"175.5001,-5813.5903 172,-5803.5904 168.5001,-5813.5904 175.5001,-5813.5903\" stroke=\"#000000\"/>\n</g>\n<!-- 140586092905640 -->\n<g class=\"node\" id=\"node14\">\n<title>140586092905640</title>\n<polygon fill=\"none\" points=\"57,-5694.5 57,-5730.5 287,-5730.5 287,-5694.5 57,-5694.5\" stroke=\"#000000\"/>\n<text fill=\"#000000\" font-family=\"Times,serif\" font-size=\"14.00\" text-anchor=\"middle\" x=\"172\" y=\"-5708.8\">conv_dw_2_bn: BatchNormalization</text>\n</g>\n<!-- 140586093203352&#45;&gt;140586092905640 -->\n<g class=\"edge\" id=\"edge13\">\n<title>140586093203352-&gt;140586092905640</title>\n<path d=\"M172,-5767.4551C172,-5759.3828 172,-5749.6764 172,-5740.6817\" fill=\"none\" stroke=\"#000000\"/>\n<polygon fill=\"#000000\" points=\"175.5001,-5740.5903 172,-5730.5904 168.5001,-5740.5904 175.5001,-5740.5903\" stroke=\"#000000\"/>\n</g>\n<!-- 140586092908048 -->\n<g class=\"node\" id=\"node15\">\n<title>140586092908048</title>\n<polygon fill=\"none\" points=\"93,-5621.5 93,-5657.5 251,-5657.5 251,-5621.5 93,-5621.5\" stroke=\"#000000\"/>\n<text fill=\"#000000\" font-family=\"Times,serif\" font-size=\"14.00\" text-anchor=\"middle\" x=\"172\" y=\"-5635.8\">conv_dw_2_relu: ReLU</text>\n</g>\n<!-- 140586092905640&#45;&gt;140586092908048 -->\n<g class=\"edge\" id=\"edge14\">\n<title>140586092905640-&gt;140586092908048</title>\n<path d=\"M172,-5694.4551C172,-5686.3828 172,-5676.6764 172,-5667.6817\" fill=\"none\" stroke=\"#000000\"/>\n<polygon fill=\"#000000\" points=\"175.5001,-5667.5903 172,-5657.5904 168.5001,-5667.5904 175.5001,-5667.5903\" stroke=\"#000000\"/>\n</g>\n<!-- 140586092936328 -->\n<g class=\"node\" id=\"node16\">\n<title>140586092936328</title>\n<polygon fill=\"none\" points=\"100.5,-5548.5 100.5,-5584.5 243.5,-5584.5 243.5,-5548.5 100.5,-5548.5\" stroke=\"#000000\"/>\n<text fill=\"#000000\" font-family=\"Times,serif\" font-size=\"14.00\" text-anchor=\"middle\" x=\"172\" y=\"-5562.8\">conv_pw_2: Conv2D</text>\n</g>\n<!-- 140586092908048&#45;&gt;140586092936328 -->\n<g class=\"edge\" id=\"edge15\">\n<title>140586092908048-&gt;140586092936328</title>\n<path d=\"M172,-5621.4551C172,-5613.3828 172,-5603.6764 172,-5594.6817\" fill=\"none\" stroke=\"#000000\"/>\n<polygon fill=\"#000000\" points=\"175.5001,-5594.5903 172,-5584.5904 168.5001,-5594.5904 175.5001,-5594.5903\" stroke=\"#000000\"/>\n</g>\n<!-- 140586092640912 -->\n<g class=\"node\" id=\"node17\">\n<title>140586092640912</title>\n<polygon fill=\"none\" points=\"57,-5475.5 57,-5511.5 287,-5511.5 287,-5475.5 57,-5475.5\" stroke=\"#000000\"/>\n<text fill=\"#000000\" font-family=\"Times,serif\" font-size=\"14.00\" text-anchor=\"middle\" x=\"172\" y=\"-5489.8\">conv_pw_2_bn: BatchNormalization</text>\n</g>\n<!-- 140586092936328&#45;&gt;140586092640912 -->\n<g class=\"edge\" id=\"edge16\">\n<title>140586092936328-&gt;140586092640912</title>\n<path d=\"M172,-5548.4551C172,-5540.3828 172,-5530.6764 172,-5521.6817\" fill=\"none\" stroke=\"#000000\"/>\n<polygon fill=\"#000000\" points=\"175.5001,-5521.5903 172,-5511.5904 168.5001,-5521.5904 175.5001,-5521.5903\" stroke=\"#000000\"/>\n</g>\n<!-- 140586092639792 -->\n<g class=\"node\" id=\"node18\">\n<title>140586092639792</title>\n<polygon fill=\"none\" points=\"93,-5402.5 93,-5438.5 251,-5438.5 251,-5402.5 93,-5402.5\" stroke=\"#000000\"/>\n<text fill=\"#000000\" font-family=\"Times,serif\" font-size=\"14.00\" text-anchor=\"middle\" x=\"172\" y=\"-5416.8\">conv_pw_2_relu: ReLU</text>\n</g>\n<!-- 140586092640912&#45;&gt;140586092639792 -->\n<g class=\"edge\" id=\"edge17\">\n<title>140586092640912-&gt;140586092639792</title>\n<path d=\"M172,-5475.4551C172,-5467.3828 172,-5457.6764 172,-5448.6817\" fill=\"none\" stroke=\"#000000\"/>\n<polygon fill=\"#000000\" points=\"175.5001,-5448.5903 172,-5438.5904 168.5001,-5448.5904 175.5001,-5448.5903\" stroke=\"#000000\"/>\n</g>\n<!-- 140586092672560 -->\n<g class=\"node\" id=\"node19\">\n<title>140586092672560</title>\n<polygon fill=\"none\" points=\"70,-5329.5 70,-5365.5 274,-5365.5 274,-5329.5 70,-5329.5\" stroke=\"#000000\"/>\n<text fill=\"#000000\" font-family=\"Times,serif\" font-size=\"14.00\" text-anchor=\"middle\" x=\"172\" y=\"-5343.8\">conv_dw_3: DepthwiseConv2D</text>\n</g>\n<!-- 140586092639792&#45;&gt;140586092672560 -->\n<g class=\"edge\" id=\"edge18\">\n<title>140586092639792-&gt;140586092672560</title>\n<path d=\"M172,-5402.4551C172,-5394.3828 172,-5384.6764 172,-5375.6817\" fill=\"none\" stroke=\"#000000\"/>\n<polygon fill=\"#000000\" points=\"175.5001,-5375.5903 172,-5365.5904 168.5001,-5375.5904 175.5001,-5375.5903\" stroke=\"#000000\"/>\n</g>\n<!-- 140586092375680 -->\n<g class=\"node\" id=\"node20\">\n<title>140586092375680</title>\n<polygon fill=\"none\" points=\"57,-5256.5 57,-5292.5 287,-5292.5 287,-5256.5 57,-5256.5\" stroke=\"#000000\"/>\n<text fill=\"#000000\" font-family=\"Times,serif\" font-size=\"14.00\" text-anchor=\"middle\" x=\"172\" y=\"-5270.8\">conv_dw_3_bn: BatchNormalization</text>\n</g>\n<!-- 140586092672560&#45;&gt;140586092375680 -->\n<g class=\"edge\" id=\"edge19\">\n<title>140586092672560-&gt;140586092375680</title>\n<path d=\"M172,-5329.4551C172,-5321.3828 172,-5311.6764 172,-5302.6817\" fill=\"none\" stroke=\"#000000\"/>\n<polygon fill=\"#000000\" points=\"175.5001,-5302.5903 172,-5292.5904 168.5001,-5302.5904 175.5001,-5302.5903\" stroke=\"#000000\"/>\n</g>\n<!-- 140586092445592 -->\n<g class=\"node\" id=\"node21\">\n<title>140586092445592</title>\n<polygon fill=\"none\" points=\"93,-5183.5 93,-5219.5 251,-5219.5 251,-5183.5 93,-5183.5\" stroke=\"#000000\"/>\n<text fill=\"#000000\" font-family=\"Times,serif\" font-size=\"14.00\" text-anchor=\"middle\" x=\"172\" y=\"-5197.8\">conv_dw_3_relu: ReLU</text>\n</g>\n<!-- 140586092375680&#45;&gt;140586092445592 -->\n<g class=\"edge\" id=\"edge20\">\n<title>140586092375680-&gt;140586092445592</title>\n<path d=\"M172,-5256.4551C172,-5248.3828 172,-5238.6764 172,-5229.6817\" fill=\"none\" stroke=\"#000000\"/>\n<polygon fill=\"#000000\" points=\"175.5001,-5229.5903 172,-5219.5904 168.5001,-5229.5904 175.5001,-5229.5903\" stroke=\"#000000\"/>\n</g>\n<!-- 140586092462880 -->\n<g class=\"node\" id=\"node22\">\n<title>140586092462880</title>\n<polygon fill=\"none\" points=\"100.5,-5110.5 100.5,-5146.5 243.5,-5146.5 243.5,-5110.5 100.5,-5110.5\" stroke=\"#000000\"/>\n<text fill=\"#000000\" font-family=\"Times,serif\" font-size=\"14.00\" text-anchor=\"middle\" x=\"172\" y=\"-5124.8\">conv_pw_3: Conv2D</text>\n</g>\n<!-- 140586092445592&#45;&gt;140586092462880 -->\n<g class=\"edge\" id=\"edge21\">\n<title>140586092445592-&gt;140586092462880</title>\n<path d=\"M172,-5183.4551C172,-5175.3828 172,-5165.6764 172,-5156.6817\" fill=\"none\" stroke=\"#000000\"/>\n<polygon fill=\"#000000\" points=\"175.5001,-5156.5903 172,-5146.5904 168.5001,-5156.5904 175.5001,-5156.5903\" stroke=\"#000000\"/>\n</g>\n<!-- 140586092145688 -->\n<g class=\"node\" id=\"node23\">\n<title>140586092145688</title>\n<polygon fill=\"none\" points=\"57,-5037.5 57,-5073.5 287,-5073.5 287,-5037.5 57,-5037.5\" stroke=\"#000000\"/>\n<text fill=\"#000000\" font-family=\"Times,serif\" font-size=\"14.00\" text-anchor=\"middle\" x=\"172\" y=\"-5051.8\">conv_pw_3_bn: BatchNormalization</text>\n</g>\n<!-- 140586092462880&#45;&gt;140586092145688 -->\n<g class=\"edge\" id=\"edge22\">\n<title>140586092462880-&gt;140586092145688</title>\n<path d=\"M172,-5110.4551C172,-5102.3828 172,-5092.6764 172,-5083.6817\" fill=\"none\" stroke=\"#000000\"/>\n<polygon fill=\"#000000\" points=\"175.5001,-5083.5903 172,-5073.5904 168.5001,-5083.5904 175.5001,-5083.5903\" stroke=\"#000000\"/>\n</g>\n<!-- 140586092060512 -->\n<g class=\"node\" id=\"node24\">\n<title>140586092060512</title>\n<polygon fill=\"none\" points=\"93,-4964.5 93,-5000.5 251,-5000.5 251,-4964.5 93,-4964.5\" stroke=\"#000000\"/>\n<text fill=\"#000000\" font-family=\"Times,serif\" font-size=\"14.00\" text-anchor=\"middle\" x=\"172\" y=\"-4978.8\">conv_pw_3_relu: ReLU</text>\n</g>\n<!-- 140586092145688&#45;&gt;140586092060512 -->\n<g class=\"edge\" id=\"edge23\">\n<title>140586092145688-&gt;140586092060512</title>\n<path d=\"M172,-5037.4551C172,-5029.3828 172,-5019.6764 172,-5010.6817\" fill=\"none\" stroke=\"#000000\"/>\n<polygon fill=\"#000000\" points=\"175.5001,-5010.5903 172,-5000.5904 168.5001,-5010.5904 175.5001,-5010.5903\" stroke=\"#000000\"/>\n</g>\n<!-- 140586092202640 -->\n<g class=\"node\" id=\"node25\">\n<title>140586092202640</title>\n<polygon fill=\"none\" points=\"77.5,-4891.5 77.5,-4927.5 266.5,-4927.5 266.5,-4891.5 77.5,-4891.5\" stroke=\"#000000\"/>\n<text fill=\"#000000\" font-family=\"Times,serif\" font-size=\"14.00\" text-anchor=\"middle\" x=\"172\" y=\"-4905.8\">conv_pad_4: ZeroPadding2D</text>\n</g>\n<!-- 140586092060512&#45;&gt;140586092202640 -->\n<g class=\"edge\" id=\"edge24\">\n<title>140586092060512-&gt;140586092202640</title>\n<path d=\"M172,-4964.4551C172,-4956.3828 172,-4946.6764 172,-4937.6817\" fill=\"none\" stroke=\"#000000\"/>\n<polygon fill=\"#000000\" points=\"175.5001,-4937.5903 172,-4927.5904 168.5001,-4937.5904 175.5001,-4937.5903\" stroke=\"#000000\"/>\n</g>\n<!-- 140586091728064 -->\n<g class=\"node\" id=\"node26\">\n<title>140586091728064</title>\n<polygon fill=\"none\" points=\"70,-4818.5 70,-4854.5 274,-4854.5 274,-4818.5 70,-4818.5\" stroke=\"#000000\"/>\n<text fill=\"#000000\" font-family=\"Times,serif\" font-size=\"14.00\" text-anchor=\"middle\" x=\"172\" y=\"-4832.8\">conv_dw_4: DepthwiseConv2D</text>\n</g>\n<!-- 140586092202640&#45;&gt;140586091728064 -->\n<g class=\"edge\" id=\"edge25\">\n<title>140586092202640-&gt;140586091728064</title>\n<path d=\"M172,-4891.4551C172,-4883.3828 172,-4873.6764 172,-4864.6817\" fill=\"none\" stroke=\"#000000\"/>\n<polygon fill=\"#000000\" points=\"175.5001,-4864.5903 172,-4854.5904 168.5001,-4864.5904 175.5001,-4864.5903\" stroke=\"#000000\"/>\n</g>\n<!-- 140586091948128 -->\n<g class=\"node\" id=\"node27\">\n<title>140586091948128</title>\n<polygon fill=\"none\" points=\"57,-4745.5 57,-4781.5 287,-4781.5 287,-4745.5 57,-4745.5\" stroke=\"#000000\"/>\n<text fill=\"#000000\" font-family=\"Times,serif\" font-size=\"14.00\" text-anchor=\"middle\" x=\"172\" y=\"-4759.8\">conv_dw_4_bn: BatchNormalization</text>\n</g>\n<!-- 140586091728064&#45;&gt;140586091948128 -->\n<g class=\"edge\" id=\"edge26\">\n<title>140586091728064-&gt;140586091948128</title>\n<path d=\"M172,-4818.4551C172,-4810.3828 172,-4800.6764 172,-4791.6817\" fill=\"none\" stroke=\"#000000\"/>\n<polygon fill=\"#000000\" points=\"175.5001,-4791.5903 172,-4781.5904 168.5001,-4791.5904 175.5001,-4791.5903\" stroke=\"#000000\"/>\n</g>\n<!-- 140586091949752 -->\n<g class=\"node\" id=\"node28\">\n<title>140586091949752</title>\n<polygon fill=\"none\" points=\"93,-4672.5 93,-4708.5 251,-4708.5 251,-4672.5 93,-4672.5\" stroke=\"#000000\"/>\n<text fill=\"#000000\" font-family=\"Times,serif\" font-size=\"14.00\" text-anchor=\"middle\" x=\"172\" y=\"-4686.8\">conv_dw_4_relu: ReLU</text>\n</g>\n<!-- 140586091948128&#45;&gt;140586091949752 -->\n<g class=\"edge\" id=\"edge27\">\n<title>140586091948128-&gt;140586091949752</title>\n<path d=\"M172,-4745.4551C172,-4737.3828 172,-4727.6764 172,-4718.6817\" fill=\"none\" stroke=\"#000000\"/>\n<polygon fill=\"#000000\" points=\"175.5001,-4718.5903 172,-4708.5904 168.5001,-4718.5904 175.5001,-4718.5903\" stroke=\"#000000\"/>\n</g>\n<!-- 140586091454416 -->\n<g class=\"node\" id=\"node29\">\n<title>140586091454416</title>\n<polygon fill=\"none\" points=\"100.5,-4599.5 100.5,-4635.5 243.5,-4635.5 243.5,-4599.5 100.5,-4599.5\" stroke=\"#000000\"/>\n<text fill=\"#000000\" font-family=\"Times,serif\" font-size=\"14.00\" text-anchor=\"middle\" x=\"172\" y=\"-4613.8\">conv_pw_4: Conv2D</text>\n</g>\n<!-- 140586091949752&#45;&gt;140586091454416 -->\n<g class=\"edge\" id=\"edge28\">\n<title>140586091949752-&gt;140586091454416</title>\n<path d=\"M172,-4672.4551C172,-4664.3828 172,-4654.6764 172,-4645.6817\" fill=\"none\" stroke=\"#000000\"/>\n<polygon fill=\"#000000\" points=\"175.5001,-4645.5903 172,-4635.5904 168.5001,-4645.5904 175.5001,-4645.5903\" stroke=\"#000000\"/>\n</g>\n<!-- 140586091679696 -->\n<g class=\"node\" id=\"node30\">\n<title>140586091679696</title>\n<polygon fill=\"none\" points=\"57,-4526.5 57,-4562.5 287,-4562.5 287,-4526.5 57,-4526.5\" stroke=\"#000000\"/>\n<text fill=\"#000000\" font-family=\"Times,serif\" font-size=\"14.00\" text-anchor=\"middle\" x=\"172\" y=\"-4540.8\">conv_pw_4_bn: BatchNormalization</text>\n</g>\n<!-- 140586091454416&#45;&gt;140586091679696 -->\n<g class=\"edge\" id=\"edge29\">\n<title>140586091454416-&gt;140586091679696</title>\n<path d=\"M172,-4599.4551C172,-4591.3828 172,-4581.6764 172,-4572.6817\" fill=\"none\" stroke=\"#000000\"/>\n<polygon fill=\"#000000\" points=\"175.5001,-4572.5903 172,-4562.5904 168.5001,-4572.5904 175.5001,-4572.5903\" stroke=\"#000000\"/>\n</g>\n<!-- 140586091678240 -->\n<g class=\"node\" id=\"node31\">\n<title>140586091678240</title>\n<polygon fill=\"none\" points=\"93,-4453.5 93,-4489.5 251,-4489.5 251,-4453.5 93,-4453.5\" stroke=\"#000000\"/>\n<text fill=\"#000000\" font-family=\"Times,serif\" font-size=\"14.00\" text-anchor=\"middle\" x=\"172\" y=\"-4467.8\">conv_pw_4_relu: ReLU</text>\n</g>\n<!-- 140586091679696&#45;&gt;140586091678240 -->\n<g class=\"edge\" id=\"edge30\">\n<title>140586091679696-&gt;140586091678240</title>\n<path d=\"M172,-4526.4551C172,-4518.3828 172,-4508.6764 172,-4499.6817\" fill=\"none\" stroke=\"#000000\"/>\n<polygon fill=\"#000000\" points=\"175.5001,-4499.5903 172,-4489.5904 168.5001,-4499.5904 175.5001,-4499.5903\" stroke=\"#000000\"/>\n</g>\n<!-- 140586091192104 -->\n<g class=\"node\" id=\"node32\">\n<title>140586091192104</title>\n<polygon fill=\"none\" points=\"70,-4380.5 70,-4416.5 274,-4416.5 274,-4380.5 70,-4380.5\" stroke=\"#000000\"/>\n<text fill=\"#000000\" font-family=\"Times,serif\" font-size=\"14.00\" text-anchor=\"middle\" x=\"172\" y=\"-4394.8\">conv_dw_5: DepthwiseConv2D</text>\n</g>\n<!-- 140586091678240&#45;&gt;140586091192104 -->\n<g class=\"edge\" id=\"edge31\">\n<title>140586091678240-&gt;140586091192104</title>\n<path d=\"M172,-4453.4551C172,-4445.3828 172,-4435.6764 172,-4426.6817\" fill=\"none\" stroke=\"#000000\"/>\n<polygon fill=\"#000000\" points=\"175.5001,-4426.5903 172,-4416.5904 168.5001,-4426.5904 175.5001,-4426.5903\" stroke=\"#000000\"/>\n</g>\n<!-- 140586090918352 -->\n<g class=\"node\" id=\"node33\">\n<title>140586090918352</title>\n<polygon fill=\"none\" points=\"57,-4307.5 57,-4343.5 287,-4343.5 287,-4307.5 57,-4307.5\" stroke=\"#000000\"/>\n<text fill=\"#000000\" font-family=\"Times,serif\" font-size=\"14.00\" text-anchor=\"middle\" x=\"172\" y=\"-4321.8\">conv_dw_5_bn: BatchNormalization</text>\n</g>\n<!-- 140586091192104&#45;&gt;140586090918352 -->\n<g class=\"edge\" id=\"edge32\">\n<title>140586091192104-&gt;140586090918352</title>\n<path d=\"M172,-4380.4551C172,-4372.3828 172,-4362.6764 172,-4353.6817\" fill=\"none\" stroke=\"#000000\"/>\n<polygon fill=\"#000000\" points=\"175.5001,-4353.5903 172,-4343.5904 168.5001,-4353.5904 175.5001,-4353.5903\" stroke=\"#000000\"/>\n</g>\n<!-- 140586090957176 -->\n<g class=\"node\" id=\"node34\">\n<title>140586090957176</title>\n<polygon fill=\"none\" points=\"93,-4234.5 93,-4270.5 251,-4270.5 251,-4234.5 93,-4234.5\" stroke=\"#000000\"/>\n<text fill=\"#000000\" font-family=\"Times,serif\" font-size=\"14.00\" text-anchor=\"middle\" x=\"172\" y=\"-4248.8\">conv_dw_5_relu: ReLU</text>\n</g>\n<!-- 140586090918352&#45;&gt;140586090957176 -->\n<g class=\"edge\" id=\"edge33\">\n<title>140586090918352-&gt;140586090957176</title>\n<path d=\"M172,-4307.4551C172,-4299.3828 172,-4289.6764 172,-4280.6817\" fill=\"none\" stroke=\"#000000\"/>\n<polygon fill=\"#000000\" points=\"175.5001,-4280.5903 172,-4270.5904 168.5001,-4280.5904 175.5001,-4280.5903\" stroke=\"#000000\"/>\n</g>\n<!-- 140586090981472 -->\n<g class=\"node\" id=\"node35\">\n<title>140586090981472</title>\n<polygon fill=\"none\" points=\"100.5,-4161.5 100.5,-4197.5 243.5,-4197.5 243.5,-4161.5 100.5,-4161.5\" stroke=\"#000000\"/>\n<text fill=\"#000000\" font-family=\"Times,serif\" font-size=\"14.00\" text-anchor=\"middle\" x=\"172\" y=\"-4175.8\">conv_pw_5: Conv2D</text>\n</g>\n<!-- 140586090957176&#45;&gt;140586090981472 -->\n<g class=\"edge\" id=\"edge34\">\n<title>140586090957176-&gt;140586090981472</title>\n<path d=\"M172,-4234.4551C172,-4226.3828 172,-4216.6764 172,-4207.6817\" fill=\"none\" stroke=\"#000000\"/>\n<polygon fill=\"#000000\" points=\"175.5001,-4207.5903 172,-4197.5904 168.5001,-4207.5904 175.5001,-4207.5903\" stroke=\"#000000\"/>\n</g>\n<!-- 140584977139360 -->\n<g class=\"node\" id=\"node36\">\n<title>140584977139360</title>\n<polygon fill=\"none\" points=\"57,-4088.5 57,-4124.5 287,-4124.5 287,-4088.5 57,-4088.5\" stroke=\"#000000\"/>\n<text fill=\"#000000\" font-family=\"Times,serif\" font-size=\"14.00\" text-anchor=\"middle\" x=\"172\" y=\"-4102.8\">conv_pw_5_bn: BatchNormalization</text>\n</g>\n<!-- 140586090981472&#45;&gt;140584977139360 -->\n<g class=\"edge\" id=\"edge35\">\n<title>140586090981472-&gt;140584977139360</title>\n<path d=\"M172,-4161.4551C172,-4153.3828 172,-4143.6764 172,-4134.6817\" fill=\"none\" stroke=\"#000000\"/>\n<polygon fill=\"#000000\" points=\"175.5001,-4134.5903 172,-4124.5904 168.5001,-4134.5904 175.5001,-4134.5903\" stroke=\"#000000\"/>\n</g>\n<!-- 140584977139808 -->\n<g class=\"node\" id=\"node37\">\n<title>140584977139808</title>\n<polygon fill=\"none\" points=\"93,-4015.5 93,-4051.5 251,-4051.5 251,-4015.5 93,-4015.5\" stroke=\"#000000\"/>\n<text fill=\"#000000\" font-family=\"Times,serif\" font-size=\"14.00\" text-anchor=\"middle\" x=\"172\" y=\"-4029.8\">conv_pw_5_relu: ReLU</text>\n</g>\n<!-- 140584977139360&#45;&gt;140584977139808 -->\n<g class=\"edge\" id=\"edge36\">\n<title>140584977139360-&gt;140584977139808</title>\n<path d=\"M172,-4088.4551C172,-4080.3828 172,-4070.6764 172,-4061.6817\" fill=\"none\" stroke=\"#000000\"/>\n<polygon fill=\"#000000\" points=\"175.5001,-4061.5903 172,-4051.5904 168.5001,-4061.5904 175.5001,-4061.5903\" stroke=\"#000000\"/>\n</g>\n<!-- 140584977173304 -->\n<g class=\"node\" id=\"node38\">\n<title>140584977173304</title>\n<polygon fill=\"none\" points=\"77.5,-3942.5 77.5,-3978.5 266.5,-3978.5 266.5,-3942.5 77.5,-3942.5\" stroke=\"#000000\"/>\n<text fill=\"#000000\" font-family=\"Times,serif\" font-size=\"14.00\" text-anchor=\"middle\" x=\"172\" y=\"-3956.8\">conv_pad_6: ZeroPadding2D</text>\n</g>\n<!-- 140584977139808&#45;&gt;140584977173304 -->\n<g class=\"edge\" id=\"edge37\">\n<title>140584977139808-&gt;140584977173304</title>\n<path d=\"M172,-4015.4551C172,-4007.3828 172,-3997.6764 172,-3988.6817\" fill=\"none\" stroke=\"#000000\"/>\n<polygon fill=\"#000000\" points=\"175.5001,-3988.5903 172,-3978.5904 168.5001,-3988.5904 175.5001,-3988.5903\" stroke=\"#000000\"/>\n</g>\n<!-- 140584977221504 -->\n<g class=\"node\" id=\"node39\">\n<title>140584977221504</title>\n<polygon fill=\"none\" points=\"70,-3869.5 70,-3905.5 274,-3905.5 274,-3869.5 70,-3869.5\" stroke=\"#000000\"/>\n<text fill=\"#000000\" font-family=\"Times,serif\" font-size=\"14.00\" text-anchor=\"middle\" x=\"172\" y=\"-3883.8\">conv_dw_6: DepthwiseConv2D</text>\n</g>\n<!-- 140584977173304&#45;&gt;140584977221504 -->\n<g class=\"edge\" id=\"edge38\">\n<title>140584977173304-&gt;140584977221504</title>\n<path d=\"M172,-3942.4551C172,-3934.3828 172,-3924.6764 172,-3915.6817\" fill=\"none\" stroke=\"#000000\"/>\n<polygon fill=\"#000000\" points=\"175.5001,-3915.5903 172,-3905.5904 168.5001,-3915.5904 175.5001,-3915.5903\" stroke=\"#000000\"/>\n</g>\n<!-- 140584976903248 -->\n<g class=\"node\" id=\"node40\">\n<title>140584976903248</title>\n<polygon fill=\"none\" points=\"57,-3796.5 57,-3832.5 287,-3832.5 287,-3796.5 57,-3796.5\" stroke=\"#000000\"/>\n<text fill=\"#000000\" font-family=\"Times,serif\" font-size=\"14.00\" text-anchor=\"middle\" x=\"172\" y=\"-3810.8\">conv_dw_6_bn: BatchNormalization</text>\n</g>\n<!-- 140584977221504&#45;&gt;140584976903248 -->\n<g class=\"edge\" id=\"edge39\">\n<title>140584977221504-&gt;140584976903248</title>\n<path d=\"M172,-3869.4551C172,-3861.3828 172,-3851.6764 172,-3842.6817\" fill=\"none\" stroke=\"#000000\"/>\n<polygon fill=\"#000000\" points=\"175.5001,-3842.5903 172,-3832.5904 168.5001,-3842.5904 175.5001,-3842.5903\" stroke=\"#000000\"/>\n</g>\n<!-- 140584976936856 -->\n<g class=\"node\" id=\"node41\">\n<title>140584976936856</title>\n<polygon fill=\"none\" points=\"93,-3723.5 93,-3759.5 251,-3759.5 251,-3723.5 93,-3723.5\" stroke=\"#000000\"/>\n<text fill=\"#000000\" font-family=\"Times,serif\" font-size=\"14.00\" text-anchor=\"middle\" x=\"172\" y=\"-3737.8\">conv_dw_6_relu: ReLU</text>\n</g>\n<!-- 140584976903248&#45;&gt;140584976936856 -->\n<g class=\"edge\" id=\"edge40\">\n<title>140584976903248-&gt;140584976936856</title>\n<path d=\"M172,-3796.4551C172,-3788.3828 172,-3778.6764 172,-3769.6817\" fill=\"none\" stroke=\"#000000\"/>\n<polygon fill=\"#000000\" points=\"175.5001,-3769.5903 172,-3759.5904 168.5001,-3769.5904 175.5001,-3769.5903\" stroke=\"#000000\"/>\n</g>\n<!-- 140584976962336 -->\n<g class=\"node\" id=\"node42\">\n<title>140584976962336</title>\n<polygon fill=\"none\" points=\"100.5,-3650.5 100.5,-3686.5 243.5,-3686.5 243.5,-3650.5 100.5,-3650.5\" stroke=\"#000000\"/>\n<text fill=\"#000000\" font-family=\"Times,serif\" font-size=\"14.00\" text-anchor=\"middle\" x=\"172\" y=\"-3664.8\">conv_pw_6: Conv2D</text>\n</g>\n<!-- 140584976936856&#45;&gt;140584976962336 -->\n<g class=\"edge\" id=\"edge41\">\n<title>140584976936856-&gt;140584976962336</title>\n<path d=\"M172,-3723.4551C172,-3715.3828 172,-3705.6764 172,-3696.6817\" fill=\"none\" stroke=\"#000000\"/>\n<polygon fill=\"#000000\" points=\"175.5001,-3696.5903 172,-3686.5904 168.5001,-3696.5904 175.5001,-3696.5903\" stroke=\"#000000\"/>\n</g>\n<!-- 140584976641048 -->\n<g class=\"node\" id=\"node43\">\n<title>140584976641048</title>\n<polygon fill=\"none\" points=\"57,-3577.5 57,-3613.5 287,-3613.5 287,-3577.5 57,-3577.5\" stroke=\"#000000\"/>\n<text fill=\"#000000\" font-family=\"Times,serif\" font-size=\"14.00\" text-anchor=\"middle\" x=\"172\" y=\"-3591.8\">conv_pw_6_bn: BatchNormalization</text>\n</g>\n<!-- 140584976962336&#45;&gt;140584976641048 -->\n<g class=\"edge\" id=\"edge42\">\n<title>140584976962336-&gt;140584976641048</title>\n<path d=\"M172,-3650.4551C172,-3642.3828 172,-3632.6764 172,-3623.6817\" fill=\"none\" stroke=\"#000000\"/>\n<polygon fill=\"#000000\" points=\"175.5001,-3623.5903 172,-3613.5904 168.5001,-3623.5904 175.5001,-3623.5903\" stroke=\"#000000\"/>\n</g>\n<!-- 140584976670560 -->\n<g class=\"node\" id=\"node44\">\n<title>140584976670560</title>\n<polygon fill=\"none\" points=\"93,-3504.5 93,-3540.5 251,-3540.5 251,-3504.5 93,-3504.5\" stroke=\"#000000\"/>\n<text fill=\"#000000\" font-family=\"Times,serif\" font-size=\"14.00\" text-anchor=\"middle\" x=\"172\" y=\"-3518.8\">conv_pw_6_relu: ReLU</text>\n</g>\n<!-- 140584976641048&#45;&gt;140584976670560 -->\n<g class=\"edge\" id=\"edge43\">\n<title>140584976641048-&gt;140584976670560</title>\n<path d=\"M172,-3577.4551C172,-3569.3828 172,-3559.6764 172,-3550.6817\" fill=\"none\" stroke=\"#000000\"/>\n<polygon fill=\"#000000\" points=\"175.5001,-3550.5903 172,-3540.5904 168.5001,-3550.5904 175.5001,-3550.5903\" stroke=\"#000000\"/>\n</g>\n<!-- 140584976710344 -->\n<g class=\"node\" id=\"node45\">\n<title>140584976710344</title>\n<polygon fill=\"none\" points=\"70,-3431.5 70,-3467.5 274,-3467.5 274,-3431.5 70,-3431.5\" stroke=\"#000000\"/>\n<text fill=\"#000000\" font-family=\"Times,serif\" font-size=\"14.00\" text-anchor=\"middle\" x=\"172\" y=\"-3445.8\">conv_dw_7: DepthwiseConv2D</text>\n</g>\n<!-- 140584976670560&#45;&gt;140584976710344 -->\n<g class=\"edge\" id=\"edge44\">\n<title>140584976670560-&gt;140584976710344</title>\n<path d=\"M172,-3504.4551C172,-3496.3828 172,-3486.6764 172,-3477.6817\" fill=\"none\" stroke=\"#000000\"/>\n<polygon fill=\"#000000\" points=\"175.5001,-3477.5903 172,-3467.5904 168.5001,-3477.5904 175.5001,-3477.5903\" stroke=\"#000000\"/>\n</g>\n<!-- 140584976406008 -->\n<g class=\"node\" id=\"node46\">\n<title>140584976406008</title>\n<polygon fill=\"none\" points=\"57,-3358.5 57,-3394.5 287,-3394.5 287,-3358.5 57,-3358.5\" stroke=\"#000000\"/>\n<text fill=\"#000000\" font-family=\"Times,serif\" font-size=\"14.00\" text-anchor=\"middle\" x=\"172\" y=\"-3372.8\">conv_dw_7_bn: BatchNormalization</text>\n</g>\n<!-- 140584976710344&#45;&gt;140584976406008 -->\n<g class=\"edge\" id=\"edge45\">\n<title>140584976710344-&gt;140584976406008</title>\n<path d=\"M172,-3431.4551C172,-3423.3828 172,-3413.6764 172,-3404.6817\" fill=\"none\" stroke=\"#000000\"/>\n<polygon fill=\"#000000\" points=\"175.5001,-3404.5903 172,-3394.5904 168.5001,-3404.5904 175.5001,-3404.5903\" stroke=\"#000000\"/>\n</g>\n<!-- 140584976448928 -->\n<g class=\"node\" id=\"node47\">\n<title>140584976448928</title>\n<polygon fill=\"none\" points=\"93,-3285.5 93,-3321.5 251,-3321.5 251,-3285.5 93,-3285.5\" stroke=\"#000000\"/>\n<text fill=\"#000000\" font-family=\"Times,serif\" font-size=\"14.00\" text-anchor=\"middle\" x=\"172\" y=\"-3299.8\">conv_dw_7_relu: ReLU</text>\n</g>\n<!-- 140584976406008&#45;&gt;140584976448928 -->\n<g class=\"edge\" id=\"edge46\">\n<title>140584976406008-&gt;140584976448928</title>\n<path d=\"M172,-3358.4551C172,-3350.3828 172,-3340.6764 172,-3331.6817\" fill=\"none\" stroke=\"#000000\"/>\n<polygon fill=\"#000000\" points=\"175.5001,-3331.5903 172,-3321.5904 168.5001,-3331.5904 175.5001,-3331.5903\" stroke=\"#000000\"/>\n</g>\n<!-- 140584976473168 -->\n<g class=\"node\" id=\"node48\">\n<title>140584976473168</title>\n<polygon fill=\"none\" points=\"100.5,-3212.5 100.5,-3248.5 243.5,-3248.5 243.5,-3212.5 100.5,-3212.5\" stroke=\"#000000\"/>\n<text fill=\"#000000\" font-family=\"Times,serif\" font-size=\"14.00\" text-anchor=\"middle\" x=\"172\" y=\"-3226.8\">conv_pw_7: Conv2D</text>\n</g>\n<!-- 140584976448928&#45;&gt;140584976473168 -->\n<g class=\"edge\" id=\"edge47\">\n<title>140584976448928-&gt;140584976473168</title>\n<path d=\"M172,-3285.4551C172,-3277.3828 172,-3267.6764 172,-3258.6817\" fill=\"none\" stroke=\"#000000\"/>\n<polygon fill=\"#000000\" points=\"175.5001,-3258.5903 172,-3248.5904 168.5001,-3258.5904 175.5001,-3258.5903\" stroke=\"#000000\"/>\n</g>\n<!-- 140584976177808 -->\n<g class=\"node\" id=\"node49\">\n<title>140584976177808</title>\n<polygon fill=\"none\" points=\"57,-3139.5 57,-3175.5 287,-3175.5 287,-3139.5 57,-3139.5\" stroke=\"#000000\"/>\n<text fill=\"#000000\" font-family=\"Times,serif\" font-size=\"14.00\" text-anchor=\"middle\" x=\"172\" y=\"-3153.8\">conv_pw_7_bn: BatchNormalization</text>\n</g>\n<!-- 140584976473168&#45;&gt;140584976177808 -->\n<g class=\"edge\" id=\"edge48\">\n<title>140584976473168-&gt;140584976177808</title>\n<path d=\"M172,-3212.4551C172,-3204.3828 172,-3194.6764 172,-3185.6817\" fill=\"none\" stroke=\"#000000\"/>\n<polygon fill=\"#000000\" points=\"175.5001,-3185.5903 172,-3175.5904 168.5001,-3185.5904 175.5001,-3185.5903\" stroke=\"#000000\"/>\n</g>\n<!-- 140584976176688 -->\n<g class=\"node\" id=\"node50\">\n<title>140584976176688</title>\n<polygon fill=\"none\" points=\"93,-3066.5 93,-3102.5 251,-3102.5 251,-3066.5 93,-3066.5\" stroke=\"#000000\"/>\n<text fill=\"#000000\" font-family=\"Times,serif\" font-size=\"14.00\" text-anchor=\"middle\" x=\"172\" y=\"-3080.8\">conv_pw_7_relu: ReLU</text>\n</g>\n<!-- 140584976177808&#45;&gt;140584976176688 -->\n<g class=\"edge\" id=\"edge49\">\n<title>140584976177808-&gt;140584976176688</title>\n<path d=\"M172,-3139.4551C172,-3131.3828 172,-3121.6764 172,-3112.6817\" fill=\"none\" stroke=\"#000000\"/>\n<polygon fill=\"#000000\" points=\"175.5001,-3112.5903 172,-3102.5904 168.5001,-3112.5904 175.5001,-3112.5903\" stroke=\"#000000\"/>\n</g>\n<!-- 140584976205360 -->\n<g class=\"node\" id=\"node51\">\n<title>140584976205360</title>\n<polygon fill=\"none\" points=\"70,-2993.5 70,-3029.5 274,-3029.5 274,-2993.5 70,-2993.5\" stroke=\"#000000\"/>\n<text fill=\"#000000\" font-family=\"Times,serif\" font-size=\"14.00\" text-anchor=\"middle\" x=\"172\" y=\"-3007.8\">conv_dw_8: DepthwiseConv2D</text>\n</g>\n<!-- 140584976176688&#45;&gt;140584976205360 -->\n<g class=\"edge\" id=\"edge50\">\n<title>140584976176688-&gt;140584976205360</title>\n<path d=\"M172,-3066.4551C172,-3058.3828 172,-3048.6764 172,-3039.6817\" fill=\"none\" stroke=\"#000000\"/>\n<polygon fill=\"#000000\" points=\"175.5001,-3039.5903 172,-3029.5904 168.5001,-3039.5904 175.5001,-3039.5903\" stroke=\"#000000\"/>\n</g>\n<!-- 140584975925144 -->\n<g class=\"node\" id=\"node52\">\n<title>140584975925144</title>\n<polygon fill=\"none\" points=\"57,-2920.5 57,-2956.5 287,-2956.5 287,-2920.5 57,-2920.5\" stroke=\"#000000\"/>\n<text fill=\"#000000\" font-family=\"Times,serif\" font-size=\"14.00\" text-anchor=\"middle\" x=\"172\" y=\"-2934.8\">conv_dw_8_bn: BatchNormalization</text>\n</g>\n<!-- 140584976205360&#45;&gt;140584975925144 -->\n<g class=\"edge\" id=\"edge51\">\n<title>140584976205360-&gt;140584975925144</title>\n<path d=\"M172,-2993.4551C172,-2985.3828 172,-2975.6764 172,-2966.6817\" fill=\"none\" stroke=\"#000000\"/>\n<polygon fill=\"#000000\" points=\"175.5001,-2966.5903 172,-2956.5904 168.5001,-2966.5904 175.5001,-2966.5903\" stroke=\"#000000\"/>\n</g>\n<!-- 140584975978392 -->\n<g class=\"node\" id=\"node53\">\n<title>140584975978392</title>\n<polygon fill=\"none\" points=\"93,-2847.5 93,-2883.5 251,-2883.5 251,-2847.5 93,-2847.5\" stroke=\"#000000\"/>\n<text fill=\"#000000\" font-family=\"Times,serif\" font-size=\"14.00\" text-anchor=\"middle\" x=\"172\" y=\"-2861.8\">conv_dw_8_relu: ReLU</text>\n</g>\n<!-- 140584975925144&#45;&gt;140584975978392 -->\n<g class=\"edge\" id=\"edge52\">\n<title>140584975925144-&gt;140584975978392</title>\n<path d=\"M172,-2920.4551C172,-2912.3828 172,-2902.6764 172,-2893.6817\" fill=\"none\" stroke=\"#000000\"/>\n<polygon fill=\"#000000\" points=\"175.5001,-2893.5903 172,-2883.5904 168.5001,-2893.5904 175.5001,-2893.5903\" stroke=\"#000000\"/>\n</g>\n<!-- 140584976007968 -->\n<g class=\"node\" id=\"node54\">\n<title>140584976007968</title>\n<polygon fill=\"none\" points=\"100.5,-2774.5 100.5,-2810.5 243.5,-2810.5 243.5,-2774.5 100.5,-2774.5\" stroke=\"#000000\"/>\n<text fill=\"#000000\" font-family=\"Times,serif\" font-size=\"14.00\" text-anchor=\"middle\" x=\"172\" y=\"-2788.8\">conv_pw_8: Conv2D</text>\n</g>\n<!-- 140584975978392&#45;&gt;140584976007968 -->\n<g class=\"edge\" id=\"edge53\">\n<title>140584975978392-&gt;140584976007968</title>\n<path d=\"M172,-2847.4551C172,-2839.3828 172,-2829.6764 172,-2820.6817\" fill=\"none\" stroke=\"#000000\"/>\n<polygon fill=\"#000000\" points=\"175.5001,-2820.5903 172,-2810.5904 168.5001,-2820.5904 175.5001,-2820.5903\" stroke=\"#000000\"/>\n</g>\n<!-- 140584975682584 -->\n<g class=\"node\" id=\"node55\">\n<title>140584975682584</title>\n<polygon fill=\"none\" points=\"57,-2701.5 57,-2737.5 287,-2737.5 287,-2701.5 57,-2701.5\" stroke=\"#000000\"/>\n<text fill=\"#000000\" font-family=\"Times,serif\" font-size=\"14.00\" text-anchor=\"middle\" x=\"172\" y=\"-2715.8\">conv_pw_8_bn: BatchNormalization</text>\n</g>\n<!-- 140584976007968&#45;&gt;140584975682584 -->\n<g class=\"edge\" id=\"edge54\">\n<title>140584976007968-&gt;140584975682584</title>\n<path d=\"M172,-2774.4551C172,-2766.3828 172,-2756.6764 172,-2747.6817\" fill=\"none\" stroke=\"#000000\"/>\n<polygon fill=\"#000000\" points=\"175.5001,-2747.5903 172,-2737.5904 168.5001,-2747.5904 175.5001,-2747.5903\" stroke=\"#000000\"/>\n</g>\n<!-- 140584975708000 -->\n<g class=\"node\" id=\"node56\">\n<title>140584975708000</title>\n<polygon fill=\"none\" points=\"93,-2628.5 93,-2664.5 251,-2664.5 251,-2628.5 93,-2628.5\" stroke=\"#000000\"/>\n<text fill=\"#000000\" font-family=\"Times,serif\" font-size=\"14.00\" text-anchor=\"middle\" x=\"172\" y=\"-2642.8\">conv_pw_8_relu: ReLU</text>\n</g>\n<!-- 140584975682584&#45;&gt;140584975708000 -->\n<g class=\"edge\" id=\"edge55\">\n<title>140584975682584-&gt;140584975708000</title>\n<path d=\"M172,-2701.4551C172,-2693.3828 172,-2683.6764 172,-2674.6817\" fill=\"none\" stroke=\"#000000\"/>\n<polygon fill=\"#000000\" points=\"175.5001,-2674.5903 172,-2664.5904 168.5001,-2674.5904 175.5001,-2674.5903\" stroke=\"#000000\"/>\n</g>\n<!-- 140584975739592 -->\n<g class=\"node\" id=\"node57\">\n<title>140584975739592</title>\n<polygon fill=\"none\" points=\"70,-2555.5 70,-2591.5 274,-2591.5 274,-2555.5 70,-2555.5\" stroke=\"#000000\"/>\n<text fill=\"#000000\" font-family=\"Times,serif\" font-size=\"14.00\" text-anchor=\"middle\" x=\"172\" y=\"-2569.8\">conv_dw_9: DepthwiseConv2D</text>\n</g>\n<!-- 140584975708000&#45;&gt;140584975739592 -->\n<g class=\"edge\" id=\"edge56\">\n<title>140584975708000-&gt;140584975739592</title>\n<path d=\"M172,-2628.4551C172,-2620.3828 172,-2610.6764 172,-2601.6817\" fill=\"none\" stroke=\"#000000\"/>\n<polygon fill=\"#000000\" points=\"175.5001,-2601.5903 172,-2591.5904 168.5001,-2601.5904 175.5001,-2601.5903\" stroke=\"#000000\"/>\n</g>\n<!-- 140584975443448 -->\n<g class=\"node\" id=\"node58\">\n<title>140584975443448</title>\n<polygon fill=\"none\" points=\"57,-2482.5 57,-2518.5 287,-2518.5 287,-2482.5 57,-2482.5\" stroke=\"#000000\"/>\n<text fill=\"#000000\" font-family=\"Times,serif\" font-size=\"14.00\" text-anchor=\"middle\" x=\"172\" y=\"-2496.8\">conv_dw_9_bn: BatchNormalization</text>\n</g>\n<!-- 140584975739592&#45;&gt;140584975443448 -->\n<g class=\"edge\" id=\"edge57\">\n<title>140584975739592-&gt;140584975443448</title>\n<path d=\"M172,-2555.4551C172,-2547.3828 172,-2537.6764 172,-2528.6817\" fill=\"none\" stroke=\"#000000\"/>\n<polygon fill=\"#000000\" points=\"175.5001,-2528.5903 172,-2518.5904 168.5001,-2528.5904 175.5001,-2528.5903\" stroke=\"#000000\"/>\n</g>\n<!-- 140584975482272 -->\n<g class=\"node\" id=\"node59\">\n<title>140584975482272</title>\n<polygon fill=\"none\" points=\"93,-2409.5 93,-2445.5 251,-2445.5 251,-2409.5 93,-2409.5\" stroke=\"#000000\"/>\n<text fill=\"#000000\" font-family=\"Times,serif\" font-size=\"14.00\" text-anchor=\"middle\" x=\"172\" y=\"-2423.8\">conv_dw_9_relu: ReLU</text>\n</g>\n<!-- 140584975443448&#45;&gt;140584975482272 -->\n<g class=\"edge\" id=\"edge58\">\n<title>140584975443448-&gt;140584975482272</title>\n<path d=\"M172,-2482.4551C172,-2474.3828 172,-2464.6764 172,-2455.6817\" fill=\"none\" stroke=\"#000000\"/>\n<polygon fill=\"#000000\" points=\"175.5001,-2455.5903 172,-2445.5904 168.5001,-2455.5904 175.5001,-2455.5903\" stroke=\"#000000\"/>\n</g>\n<!-- 140584975502416 -->\n<g class=\"node\" id=\"node60\">\n<title>140584975502416</title>\n<polygon fill=\"none\" points=\"100.5,-2336.5 100.5,-2372.5 243.5,-2372.5 243.5,-2336.5 100.5,-2336.5\" stroke=\"#000000\"/>\n<text fill=\"#000000\" font-family=\"Times,serif\" font-size=\"14.00\" text-anchor=\"middle\" x=\"172\" y=\"-2350.8\">conv_pw_9: Conv2D</text>\n</g>\n<!-- 140584975482272&#45;&gt;140584975502416 -->\n<g class=\"edge\" id=\"edge59\">\n<title>140584975482272-&gt;140584975502416</title>\n<path d=\"M172,-2409.4551C172,-2401.3828 172,-2391.6764 172,-2382.6817\" fill=\"none\" stroke=\"#000000\"/>\n<polygon fill=\"#000000\" points=\"175.5001,-2382.5903 172,-2372.5904 168.5001,-2382.5904 175.5001,-2382.5903\" stroke=\"#000000\"/>\n</g>\n<!-- 140584975207056 -->\n<g class=\"node\" id=\"node61\">\n<title>140584975207056</title>\n<polygon fill=\"none\" points=\"57,-2263.5 57,-2299.5 287,-2299.5 287,-2263.5 57,-2263.5\" stroke=\"#000000\"/>\n<text fill=\"#000000\" font-family=\"Times,serif\" font-size=\"14.00\" text-anchor=\"middle\" x=\"172\" y=\"-2277.8\">conv_pw_9_bn: BatchNormalization</text>\n</g>\n<!-- 140584975502416&#45;&gt;140584975207056 -->\n<g class=\"edge\" id=\"edge60\">\n<title>140584975502416-&gt;140584975207056</title>\n<path d=\"M172,-2336.4551C172,-2328.3828 172,-2318.6764 172,-2309.6817\" fill=\"none\" stroke=\"#000000\"/>\n<polygon fill=\"#000000\" points=\"175.5001,-2309.5903 172,-2299.5904 168.5001,-2309.5904 175.5001,-2309.5903\" stroke=\"#000000\"/>\n</g>\n<!-- 140584975205936 -->\n<g class=\"node\" id=\"node62\">\n<title>140584975205936</title>\n<polygon fill=\"none\" points=\"93,-2190.5 93,-2226.5 251,-2226.5 251,-2190.5 93,-2190.5\" stroke=\"#000000\"/>\n<text fill=\"#000000\" font-family=\"Times,serif\" font-size=\"14.00\" text-anchor=\"middle\" x=\"172\" y=\"-2204.8\">conv_pw_9_relu: ReLU</text>\n</g>\n<!-- 140584975207056&#45;&gt;140584975205936 -->\n<g class=\"edge\" id=\"edge61\">\n<title>140584975207056-&gt;140584975205936</title>\n<path d=\"M172,-2263.4551C172,-2255.3828 172,-2245.6764 172,-2236.6817\" fill=\"none\" stroke=\"#000000\"/>\n<polygon fill=\"#000000\" points=\"175.5001,-2236.5903 172,-2226.5904 168.5001,-2236.5904 175.5001,-2236.5903\" stroke=\"#000000\"/>\n</g>\n<!-- 140584975246840 -->\n<g class=\"node\" id=\"node63\">\n<title>140584975246840</title>\n<polygon fill=\"none\" points=\"66,-2117.5 66,-2153.5 278,-2153.5 278,-2117.5 66,-2117.5\" stroke=\"#000000\"/>\n<text fill=\"#000000\" font-family=\"Times,serif\" font-size=\"14.00\" text-anchor=\"middle\" x=\"172\" y=\"-2131.8\">conv_dw_10: DepthwiseConv2D</text>\n</g>\n<!-- 140584975205936&#45;&gt;140584975246840 -->\n<g class=\"edge\" id=\"edge62\">\n<title>140584975205936-&gt;140584975246840</title>\n<path d=\"M172,-2190.4551C172,-2182.3828 172,-2172.6764 172,-2163.6817\" fill=\"none\" stroke=\"#000000\"/>\n<polygon fill=\"#000000\" points=\"175.5001,-2163.5903 172,-2153.5904 168.5001,-2163.5904 175.5001,-2163.5903\" stroke=\"#000000\"/>\n</g>\n<!-- 140584974950016 -->\n<g class=\"node\" id=\"node64\">\n<title>140584974950016</title>\n<polygon fill=\"none\" points=\"53,-2044.5 53,-2080.5 291,-2080.5 291,-2044.5 53,-2044.5\" stroke=\"#000000\"/>\n<text fill=\"#000000\" font-family=\"Times,serif\" font-size=\"14.00\" text-anchor=\"middle\" x=\"172\" y=\"-2058.8\">conv_dw_10_bn: BatchNormalization</text>\n</g>\n<!-- 140584975246840&#45;&gt;140584974950016 -->\n<g class=\"edge\" id=\"edge63\">\n<title>140584975246840-&gt;140584974950016</title>\n<path d=\"M172,-2117.4551C172,-2109.3828 172,-2099.6764 172,-2090.6817\" fill=\"none\" stroke=\"#000000\"/>\n<polygon fill=\"#000000\" points=\"175.5001,-2090.5903 172,-2080.5904 168.5001,-2090.5904 175.5001,-2090.5903\" stroke=\"#000000\"/>\n</g>\n<!-- 140584974499736 -->\n<g class=\"node\" id=\"node65\">\n<title>140584974499736</title>\n<polygon fill=\"none\" points=\"89.5,-1971.5 89.5,-2007.5 254.5,-2007.5 254.5,-1971.5 89.5,-1971.5\" stroke=\"#000000\"/>\n<text fill=\"#000000\" font-family=\"Times,serif\" font-size=\"14.00\" text-anchor=\"middle\" x=\"172\" y=\"-1985.8\">conv_dw_10_relu: ReLU</text>\n</g>\n<!-- 140584974950016&#45;&gt;140584974499736 -->\n<g class=\"edge\" id=\"edge64\">\n<title>140584974950016-&gt;140584974499736</title>\n<path d=\"M172,-2044.4551C172,-2036.3828 172,-2026.6764 172,-2017.6817\" fill=\"none\" stroke=\"#000000\"/>\n<polygon fill=\"#000000\" points=\"175.5001,-2017.5903 172,-2007.5904 168.5001,-2017.5904 175.5001,-2017.5903\" stroke=\"#000000\"/>\n</g>\n<!-- 140584974512928 -->\n<g class=\"node\" id=\"node66\">\n<title>140584974512928</title>\n<polygon fill=\"none\" points=\"96.5,-1898.5 96.5,-1934.5 247.5,-1934.5 247.5,-1898.5 96.5,-1898.5\" stroke=\"#000000\"/>\n<text fill=\"#000000\" font-family=\"Times,serif\" font-size=\"14.00\" text-anchor=\"middle\" x=\"172\" y=\"-1912.8\">conv_pw_10: Conv2D</text>\n</g>\n<!-- 140584974499736&#45;&gt;140584974512928 -->\n<g class=\"edge\" id=\"edge65\">\n<title>140584974499736-&gt;140584974512928</title>\n<path d=\"M172,-1971.4551C172,-1963.3828 172,-1953.6764 172,-1944.6817\" fill=\"none\" stroke=\"#000000\"/>\n<polygon fill=\"#000000\" points=\"175.5001,-1944.5903 172,-1934.5904 168.5001,-1944.5904 175.5001,-1944.5903\" stroke=\"#000000\"/>\n</g>\n<!-- 140584974707680 -->\n<g class=\"node\" id=\"node67\">\n<title>140584974707680</title>\n<polygon fill=\"none\" points=\"53,-1825.5 53,-1861.5 291,-1861.5 291,-1825.5 53,-1825.5\" stroke=\"#000000\"/>\n<text fill=\"#000000\" font-family=\"Times,serif\" font-size=\"14.00\" text-anchor=\"middle\" x=\"172\" y=\"-1839.8\">conv_pw_10_bn: BatchNormalization</text>\n</g>\n<!-- 140584974512928&#45;&gt;140584974707680 -->\n<g class=\"edge\" id=\"edge66\">\n<title>140584974512928-&gt;140584974707680</title>\n<path d=\"M172,-1898.4551C172,-1890.3828 172,-1880.6764 172,-1871.6817\" fill=\"none\" stroke=\"#000000\"/>\n<polygon fill=\"#000000\" points=\"175.5001,-1871.5903 172,-1861.5904 168.5001,-1871.5904 175.5001,-1871.5903\" stroke=\"#000000\"/>\n</g>\n<!-- 140584974749480 -->\n<g class=\"node\" id=\"node68\">\n<title>140584974749480</title>\n<polygon fill=\"none\" points=\"89.5,-1752.5 89.5,-1788.5 254.5,-1788.5 254.5,-1752.5 89.5,-1752.5\" stroke=\"#000000\"/>\n<text fill=\"#000000\" font-family=\"Times,serif\" font-size=\"14.00\" text-anchor=\"middle\" x=\"172\" y=\"-1766.8\">conv_pw_10_relu: ReLU</text>\n</g>\n<!-- 140584974707680&#45;&gt;140584974749480 -->\n<g class=\"edge\" id=\"edge67\">\n<title>140584974707680-&gt;140584974749480</title>\n<path d=\"M172,-1825.4551C172,-1817.3828 172,-1807.6764 172,-1798.6817\" fill=\"none\" stroke=\"#000000\"/>\n<polygon fill=\"#000000\" points=\"175.5001,-1798.5903 172,-1788.5904 168.5001,-1798.5904 175.5001,-1798.5903\" stroke=\"#000000\"/>\n</g>\n<!-- 140584974264976 -->\n<g class=\"node\" id=\"node69\">\n<title>140584974264976</title>\n<polygon fill=\"none\" points=\"66.5,-1679.5 66.5,-1715.5 277.5,-1715.5 277.5,-1679.5 66.5,-1679.5\" stroke=\"#000000\"/>\n<text fill=\"#000000\" font-family=\"Times,serif\" font-size=\"14.00\" text-anchor=\"middle\" x=\"172\" y=\"-1693.8\">conv_dw_11: DepthwiseConv2D</text>\n</g>\n<!-- 140584974749480&#45;&gt;140584974264976 -->\n<g class=\"edge\" id=\"edge68\">\n<title>140584974749480-&gt;140584974264976</title>\n<path d=\"M172,-1752.4551C172,-1744.3828 172,-1734.6764 172,-1725.6817\" fill=\"none\" stroke=\"#000000\"/>\n<polygon fill=\"#000000\" points=\"175.5001,-1725.5903 172,-1715.5904 168.5001,-1725.5904 175.5001,-1725.5903\" stroke=\"#000000\"/>\n</g>\n<!-- 140584974480888 -->\n<g class=\"node\" id=\"node70\">\n<title>140584974480888</title>\n<polygon fill=\"none\" points=\"53.5,-1606.5 53.5,-1642.5 290.5,-1642.5 290.5,-1606.5 53.5,-1606.5\" stroke=\"#000000\"/>\n<text fill=\"#000000\" font-family=\"Times,serif\" font-size=\"14.00\" text-anchor=\"middle\" x=\"172\" y=\"-1620.8\">conv_dw_11_bn: BatchNormalization</text>\n</g>\n<!-- 140584974264976&#45;&gt;140584974480888 -->\n<g class=\"edge\" id=\"edge69\">\n<title>140584974264976-&gt;140584974480888</title>\n<path d=\"M172,-1679.4551C172,-1671.3828 172,-1661.6764 172,-1652.6817\" fill=\"none\" stroke=\"#000000\"/>\n<polygon fill=\"#000000\" points=\"175.5001,-1652.5903 172,-1642.5904 168.5001,-1652.5904 175.5001,-1652.5903\" stroke=\"#000000\"/>\n</g>\n<!-- 140584973999520 -->\n<g class=\"node\" id=\"node71\">\n<title>140584973999520</title>\n<polygon fill=\"none\" points=\"90,-1533.5 90,-1569.5 254,-1569.5 254,-1533.5 90,-1533.5\" stroke=\"#000000\"/>\n<text fill=\"#000000\" font-family=\"Times,serif\" font-size=\"14.00\" text-anchor=\"middle\" x=\"172\" y=\"-1547.8\">conv_dw_11_relu: ReLU</text>\n</g>\n<!-- 140584974480888&#45;&gt;140584973999520 -->\n<g class=\"edge\" id=\"edge70\">\n<title>140584974480888-&gt;140584973999520</title>\n<path d=\"M172,-1606.4551C172,-1598.3828 172,-1588.6764 172,-1579.6817\" fill=\"none\" stroke=\"#000000\"/>\n<polygon fill=\"#000000\" points=\"175.5001,-1579.5903 172,-1569.5904 168.5001,-1579.5904 175.5001,-1579.5903\" stroke=\"#000000\"/>\n</g>\n<!-- 140584974027856 -->\n<g class=\"node\" id=\"node72\">\n<title>140584974027856</title>\n<polygon fill=\"none\" points=\"97,-1460.5 97,-1496.5 247,-1496.5 247,-1460.5 97,-1460.5\" stroke=\"#000000\"/>\n<text fill=\"#000000\" font-family=\"Times,serif\" font-size=\"14.00\" text-anchor=\"middle\" x=\"172\" y=\"-1474.8\">conv_pw_11: Conv2D</text>\n</g>\n<!-- 140584973999520&#45;&gt;140584974027856 -->\n<g class=\"edge\" id=\"edge71\">\n<title>140584973999520-&gt;140584974027856</title>\n<path d=\"M172,-1533.4551C172,-1525.3828 172,-1515.6764 172,-1506.6817\" fill=\"none\" stroke=\"#000000\"/>\n<polygon fill=\"#000000\" points=\"175.5001,-1506.5903 172,-1496.5904 168.5001,-1506.5904 175.5001,-1506.5903\" stroke=\"#000000\"/>\n</g>\n<!-- 140584973725648 -->\n<g class=\"node\" id=\"node73\">\n<title>140584973725648</title>\n<polygon fill=\"none\" points=\"53.5,-1387.5 53.5,-1423.5 290.5,-1423.5 290.5,-1387.5 53.5,-1387.5\" stroke=\"#000000\"/>\n<text fill=\"#000000\" font-family=\"Times,serif\" font-size=\"14.00\" text-anchor=\"middle\" x=\"172\" y=\"-1401.8\">conv_pw_11_bn: BatchNormalization</text>\n</g>\n<!-- 140584974027856&#45;&gt;140584973725648 -->\n<g class=\"edge\" id=\"edge72\">\n<title>140584974027856-&gt;140584973725648</title>\n<path d=\"M172,-1460.4551C172,-1452.3828 172,-1442.6764 172,-1433.6817\" fill=\"none\" stroke=\"#000000\"/>\n<polygon fill=\"#000000\" points=\"175.5001,-1433.5903 172,-1423.5904 168.5001,-1433.5904 175.5001,-1433.5903\" stroke=\"#000000\"/>\n</g>\n<!-- 140584973724640 -->\n<g class=\"node\" id=\"node74\">\n<title>140584973724640</title>\n<polygon fill=\"none\" points=\"90,-1314.5 90,-1350.5 254,-1350.5 254,-1314.5 90,-1314.5\" stroke=\"#000000\"/>\n<text fill=\"#000000\" font-family=\"Times,serif\" font-size=\"14.00\" text-anchor=\"middle\" x=\"172\" y=\"-1328.8\">conv_pw_11_relu: ReLU</text>\n</g>\n<!-- 140584973725648&#45;&gt;140584973724640 -->\n<g class=\"edge\" id=\"edge73\">\n<title>140584973725648-&gt;140584973724640</title>\n<path d=\"M172,-1387.4551C172,-1379.3828 172,-1369.6764 172,-1360.6817\" fill=\"none\" stroke=\"#000000\"/>\n<polygon fill=\"#000000\" points=\"175.5001,-1360.5903 172,-1350.5904 168.5001,-1360.5904 175.5001,-1360.5903\" stroke=\"#000000\"/>\n</g>\n<!-- 140584973747816 -->\n<g class=\"node\" id=\"node75\">\n<title>140584973747816</title>\n<polygon fill=\"none\" points=\"73.5,-1241.5 73.5,-1277.5 270.5,-1277.5 270.5,-1241.5 73.5,-1241.5\" stroke=\"#000000\"/>\n<text fill=\"#000000\" font-family=\"Times,serif\" font-size=\"14.00\" text-anchor=\"middle\" x=\"172\" y=\"-1255.8\">conv_pad_12: ZeroPadding2D</text>\n</g>\n<!-- 140584973724640&#45;&gt;140584973747816 -->\n<g class=\"edge\" id=\"edge74\">\n<title>140584973724640-&gt;140584973747816</title>\n<path d=\"M172,-1314.4551C172,-1306.3828 172,-1296.6764 172,-1287.6817\" fill=\"none\" stroke=\"#000000\"/>\n<polygon fill=\"#000000\" points=\"175.5001,-1287.5903 172,-1277.5904 168.5001,-1287.5904 175.5001,-1287.5903\" stroke=\"#000000\"/>\n</g>\n<!-- 140584973802800 -->\n<g class=\"node\" id=\"node76\">\n<title>140584973802800</title>\n<polygon fill=\"none\" points=\"66,-1168.5 66,-1204.5 278,-1204.5 278,-1168.5 66,-1168.5\" stroke=\"#000000\"/>\n<text fill=\"#000000\" font-family=\"Times,serif\" font-size=\"14.00\" text-anchor=\"middle\" x=\"172\" y=\"-1182.8\">conv_dw_12: DepthwiseConv2D</text>\n</g>\n<!-- 140584973747816&#45;&gt;140584973802800 -->\n<g class=\"edge\" id=\"edge75\">\n<title>140584973747816-&gt;140584973802800</title>\n<path d=\"M172,-1241.4551C172,-1233.3828 172,-1223.6764 172,-1214.6817\" fill=\"none\" stroke=\"#000000\"/>\n<polygon fill=\"#000000\" points=\"175.5001,-1214.5903 172,-1204.5904 168.5001,-1214.5904 175.5001,-1214.5903\" stroke=\"#000000\"/>\n</g>\n<!-- 140584973488368 -->\n<g class=\"node\" id=\"node77\">\n<title>140584973488368</title>\n<polygon fill=\"none\" points=\"53,-1095.5 53,-1131.5 291,-1131.5 291,-1095.5 53,-1095.5\" stroke=\"#000000\"/>\n<text fill=\"#000000\" font-family=\"Times,serif\" font-size=\"14.00\" text-anchor=\"middle\" x=\"172\" y=\"-1109.8\">conv_dw_12_bn: BatchNormalization</text>\n</g>\n<!-- 140584973802800&#45;&gt;140584973488368 -->\n<g class=\"edge\" id=\"edge76\">\n<title>140584973802800-&gt;140584973488368</title>\n<path d=\"M172,-1168.4551C172,-1160.3828 172,-1150.6764 172,-1141.6817\" fill=\"none\" stroke=\"#000000\"/>\n<polygon fill=\"#000000\" points=\"175.5001,-1141.5903 172,-1131.5904 168.5001,-1141.5904 175.5001,-1141.5903\" stroke=\"#000000\"/>\n</g>\n<!-- 140584973490664 -->\n<g class=\"node\" id=\"node78\">\n<title>140584973490664</title>\n<polygon fill=\"none\" points=\"89.5,-1022.5 89.5,-1058.5 254.5,-1058.5 254.5,-1022.5 89.5,-1022.5\" stroke=\"#000000\"/>\n<text fill=\"#000000\" font-family=\"Times,serif\" font-size=\"14.00\" text-anchor=\"middle\" x=\"172\" y=\"-1036.8\">conv_dw_12_relu: ReLU</text>\n</g>\n<!-- 140584973488368&#45;&gt;140584973490664 -->\n<g class=\"edge\" id=\"edge77\">\n<title>140584973488368-&gt;140584973490664</title>\n<path d=\"M172,-1095.4551C172,-1087.3828 172,-1077.6764 172,-1068.6817\" fill=\"none\" stroke=\"#000000\"/>\n<polygon fill=\"#000000\" points=\"175.5001,-1068.5903 172,-1058.5904 168.5001,-1068.5904 175.5001,-1068.5903\" stroke=\"#000000\"/>\n</g>\n<!-- 140584973510752 -->\n<g class=\"node\" id=\"node79\">\n<title>140584973510752</title>\n<polygon fill=\"none\" points=\"96.5,-949.5 96.5,-985.5 247.5,-985.5 247.5,-949.5 96.5,-949.5\" stroke=\"#000000\"/>\n<text fill=\"#000000\" font-family=\"Times,serif\" font-size=\"14.00\" text-anchor=\"middle\" x=\"172\" y=\"-963.8\">conv_pw_12: Conv2D</text>\n</g>\n<!-- 140584973490664&#45;&gt;140584973510752 -->\n<g class=\"edge\" id=\"edge78\">\n<title>140584973490664-&gt;140584973510752</title>\n<path d=\"M172,-1022.4551C172,-1014.3828 172,-1004.6764 172,-995.6817\" fill=\"none\" stroke=\"#000000\"/>\n<polygon fill=\"#000000\" points=\"175.5001,-995.5903 172,-985.5904 168.5001,-995.5904 175.5001,-995.5903\" stroke=\"#000000\"/>\n</g>\n<!-- 140584973199008 -->\n<g class=\"node\" id=\"node80\">\n<title>140584973199008</title>\n<polygon fill=\"none\" points=\"53,-876.5 53,-912.5 291,-912.5 291,-876.5 53,-876.5\" stroke=\"#000000\"/>\n<text fill=\"#000000\" font-family=\"Times,serif\" font-size=\"14.00\" text-anchor=\"middle\" x=\"172\" y=\"-890.8\">conv_pw_12_bn: BatchNormalization</text>\n</g>\n<!-- 140584973510752&#45;&gt;140584973199008 -->\n<g class=\"edge\" id=\"edge79\">\n<title>140584973510752-&gt;140584973199008</title>\n<path d=\"M172,-949.4551C172,-941.3828 172,-931.6764 172,-922.6817\" fill=\"none\" stroke=\"#000000\"/>\n<polygon fill=\"#000000\" points=\"175.5001,-922.5903 172,-912.5904 168.5001,-922.5904 175.5001,-922.5903\" stroke=\"#000000\"/>\n</g>\n<!-- 140584973199456 -->\n<g class=\"node\" id=\"node81\">\n<title>140584973199456</title>\n<polygon fill=\"none\" points=\"89.5,-803.5 89.5,-839.5 254.5,-839.5 254.5,-803.5 89.5,-803.5\" stroke=\"#000000\"/>\n<text fill=\"#000000\" font-family=\"Times,serif\" font-size=\"14.00\" text-anchor=\"middle\" x=\"172\" y=\"-817.8\">conv_pw_12_relu: ReLU</text>\n</g>\n<!-- 140584973199008&#45;&gt;140584973199456 -->\n<g class=\"edge\" id=\"edge80\">\n<title>140584973199008-&gt;140584973199456</title>\n<path d=\"M172,-876.4551C172,-868.3828 172,-858.6764 172,-849.6817\" fill=\"none\" stroke=\"#000000\"/>\n<polygon fill=\"#000000\" points=\"175.5001,-849.5903 172,-839.5904 168.5001,-849.5904 175.5001,-849.5903\" stroke=\"#000000\"/>\n</g>\n<!-- 140584973237048 -->\n<g class=\"node\" id=\"node82\">\n<title>140584973237048</title>\n<polygon fill=\"none\" points=\"66,-730.5 66,-766.5 278,-766.5 278,-730.5 66,-730.5\" stroke=\"#000000\"/>\n<text fill=\"#000000\" font-family=\"Times,serif\" font-size=\"14.00\" text-anchor=\"middle\" x=\"172\" y=\"-744.8\">conv_dw_13: DepthwiseConv2D</text>\n</g>\n<!-- 140584973199456&#45;&gt;140584973237048 -->\n<g class=\"edge\" id=\"edge81\">\n<title>140584973199456-&gt;140584973237048</title>\n<path d=\"M172,-803.4551C172,-795.3828 172,-785.6764 172,-776.6817\" fill=\"none\" stroke=\"#000000\"/>\n<polygon fill=\"#000000\" points=\"175.5001,-776.5903 172,-766.5904 168.5001,-776.5904 175.5001,-776.5903\" stroke=\"#000000\"/>\n</g>\n<!-- 140584972972328 -->\n<g class=\"node\" id=\"node83\">\n<title>140584972972328</title>\n<polygon fill=\"none\" points=\"53,-657.5 53,-693.5 291,-693.5 291,-657.5 53,-657.5\" stroke=\"#000000\"/>\n<text fill=\"#000000\" font-family=\"Times,serif\" font-size=\"14.00\" text-anchor=\"middle\" x=\"172\" y=\"-671.8\">conv_dw_13_bn: BatchNormalization</text>\n</g>\n<!-- 140584973237048&#45;&gt;140584972972328 -->\n<g class=\"edge\" id=\"edge82\">\n<title>140584973237048-&gt;140584972972328</title>\n<path d=\"M172,-730.4551C172,-722.3828 172,-712.6764 172,-703.6817\" fill=\"none\" stroke=\"#000000\"/>\n<polygon fill=\"#000000\" points=\"175.5001,-703.5903 172,-693.5904 168.5001,-703.5904 175.5001,-703.5903\" stroke=\"#000000\"/>\n</g>\n<!-- 140584973011152 -->\n<g class=\"node\" id=\"node84\">\n<title>140584973011152</title>\n<polygon fill=\"none\" points=\"89.5,-584.5 89.5,-620.5 254.5,-620.5 254.5,-584.5 89.5,-584.5\" stroke=\"#000000\"/>\n<text fill=\"#000000\" font-family=\"Times,serif\" font-size=\"14.00\" text-anchor=\"middle\" x=\"172\" y=\"-598.8\">conv_dw_13_relu: ReLU</text>\n</g>\n<!-- 140584972972328&#45;&gt;140584973011152 -->\n<g class=\"edge\" id=\"edge83\">\n<title>140584972972328-&gt;140584973011152</title>\n<path d=\"M172,-657.4551C172,-649.3828 172,-639.6764 172,-630.6817\" fill=\"none\" stroke=\"#000000\"/>\n<polygon fill=\"#000000\" points=\"175.5001,-630.5903 172,-620.5904 168.5001,-630.5904 175.5001,-630.5903\" stroke=\"#000000\"/>\n</g>\n<!-- 140584973035392 -->\n<g class=\"node\" id=\"node85\">\n<title>140584973035392</title>\n<polygon fill=\"none\" points=\"96.5,-511.5 96.5,-547.5 247.5,-547.5 247.5,-511.5 96.5,-511.5\" stroke=\"#000000\"/>\n<text fill=\"#000000\" font-family=\"Times,serif\" font-size=\"14.00\" text-anchor=\"middle\" x=\"172\" y=\"-525.8\">conv_pw_13: Conv2D</text>\n</g>\n<!-- 140584973011152&#45;&gt;140584973035392 -->\n<g class=\"edge\" id=\"edge84\">\n<title>140584973011152-&gt;140584973035392</title>\n<path d=\"M172,-584.4551C172,-576.3828 172,-566.6764 172,-557.6817\" fill=\"none\" stroke=\"#000000\"/>\n<polygon fill=\"#000000\" points=\"175.5001,-557.5903 172,-547.5904 168.5001,-557.5904 175.5001,-557.5903\" stroke=\"#000000\"/>\n</g>\n<!-- 140584972741824 -->\n<g class=\"node\" id=\"node86\">\n<title>140584972741824</title>\n<polygon fill=\"none\" points=\"53,-438.5 53,-474.5 291,-474.5 291,-438.5 53,-438.5\" stroke=\"#000000\"/>\n<text fill=\"#000000\" font-family=\"Times,serif\" font-size=\"14.00\" text-anchor=\"middle\" x=\"172\" y=\"-452.8\">conv_pw_13_bn: BatchNormalization</text>\n</g>\n<!-- 140584973035392&#45;&gt;140584972741824 -->\n<g class=\"edge\" id=\"edge85\">\n<title>140584973035392-&gt;140584972741824</title>\n<path d=\"M172,-511.4551C172,-503.3828 172,-493.6764 172,-484.6817\" fill=\"none\" stroke=\"#000000\"/>\n<polygon fill=\"#000000\" points=\"175.5001,-484.5903 172,-474.5904 168.5001,-484.5904 175.5001,-484.5903\" stroke=\"#000000\"/>\n</g>\n<!-- 140584972740704 -->\n<g class=\"node\" id=\"node87\">\n<title>140584972740704</title>\n<polygon fill=\"none\" points=\"89.5,-365.5 89.5,-401.5 254.5,-401.5 254.5,-365.5 89.5,-365.5\" stroke=\"#000000\"/>\n<text fill=\"#000000\" font-family=\"Times,serif\" font-size=\"14.00\" text-anchor=\"middle\" x=\"172\" y=\"-379.8\">conv_pw_13_relu: ReLU</text>\n</g>\n<!-- 140584972741824&#45;&gt;140584972740704 -->\n<g class=\"edge\" id=\"edge86\">\n<title>140584972741824-&gt;140584972740704</title>\n<path d=\"M172,-438.4551C172,-430.3828 172,-420.6764 172,-411.6817\" fill=\"none\" stroke=\"#000000\"/>\n<polygon fill=\"#000000\" points=\"175.5001,-411.5903 172,-401.5904 168.5001,-411.5904 175.5001,-411.5903\" stroke=\"#000000\"/>\n</g>\n<!-- 140584972893432 -->\n<g class=\"node\" id=\"node88\">\n<title>140584972893432</title>\n<polygon fill=\"none\" points=\"0,-292.5 0,-328.5 344,-328.5 344,-292.5 0,-292.5\" stroke=\"#000000\"/>\n<text fill=\"#000000\" font-family=\"Times,serif\" font-size=\"14.00\" text-anchor=\"middle\" x=\"172\" y=\"-306.8\">global_average_pooling2d_2: GlobalAveragePooling2D</text>\n</g>\n<!-- 140584972740704&#45;&gt;140584972893432 -->\n<g class=\"edge\" id=\"edge87\">\n<title>140584972740704-&gt;140584972893432</title>\n<path d=\"M172,-365.4551C172,-357.3828 172,-347.6764 172,-338.6817\" fill=\"none\" stroke=\"#000000\"/>\n<polygon fill=\"#000000\" points=\"175.5001,-338.5903 172,-328.5904 168.5001,-338.5904 175.5001,-338.5903\" stroke=\"#000000\"/>\n</g>\n<!-- 140586093640504 -->\n<g class=\"node\" id=\"node89\">\n<title>140586093640504</title>\n<polygon fill=\"none\" points=\"118.5,-219.5 118.5,-255.5 225.5,-255.5 225.5,-219.5 118.5,-219.5\" stroke=\"#000000\"/>\n<text fill=\"#000000\" font-family=\"Times,serif\" font-size=\"14.00\" text-anchor=\"middle\" x=\"172\" y=\"-233.8\">dense_1: Dense</text>\n</g>\n<!-- 140584972893432&#45;&gt;140586093640504 -->\n<g class=\"edge\" id=\"edge88\">\n<title>140584972893432-&gt;140586093640504</title>\n<path d=\"M172,-292.4551C172,-284.3828 172,-274.6764 172,-265.6817\" fill=\"none\" stroke=\"#000000\"/>\n<polygon fill=\"#000000\" points=\"175.5001,-265.5903 172,-255.5904 168.5001,-265.5904 175.5001,-265.5903\" stroke=\"#000000\"/>\n</g>\n<!-- 140584971960104 -->\n<g class=\"node\" id=\"node90\">\n<title>140584971960104</title>\n<polygon fill=\"none\" points=\"118.5,-146.5 118.5,-182.5 225.5,-182.5 225.5,-146.5 118.5,-146.5\" stroke=\"#000000\"/>\n<text fill=\"#000000\" font-family=\"Times,serif\" font-size=\"14.00\" text-anchor=\"middle\" x=\"172\" y=\"-160.8\">dense_2: Dense</text>\n</g>\n<!-- 140586093640504&#45;&gt;140584971960104 -->\n<g class=\"edge\" id=\"edge89\">\n<title>140586093640504-&gt;140584971960104</title>\n<path d=\"M172,-219.4551C172,-211.3828 172,-201.6764 172,-192.6817\" fill=\"none\" stroke=\"#000000\"/>\n<polygon fill=\"#000000\" points=\"175.5001,-192.5903 172,-182.5904 168.5001,-192.5904 175.5001,-192.5903\" stroke=\"#000000\"/>\n</g>\n<!-- 140584970886448 -->\n<g class=\"node\" id=\"node91\">\n<title>140584970886448</title>\n<polygon fill=\"none\" points=\"118.5,-73.5 118.5,-109.5 225.5,-109.5 225.5,-73.5 118.5,-73.5\" stroke=\"#000000\"/>\n<text fill=\"#000000\" font-family=\"Times,serif\" font-size=\"14.00\" text-anchor=\"middle\" x=\"172\" y=\"-87.8\">dense_3: Dense</text>\n</g>\n<!-- 140584971960104&#45;&gt;140584970886448 -->\n<g class=\"edge\" id=\"edge90\">\n<title>140584971960104-&gt;140584970886448</title>\n<path d=\"M172,-146.4551C172,-138.3828 172,-128.6764 172,-119.6817\" fill=\"none\" stroke=\"#000000\"/>\n<polygon fill=\"#000000\" points=\"175.5001,-119.5903 172,-109.5904 168.5001,-119.5904 175.5001,-119.5903\" stroke=\"#000000\"/>\n</g>\n<!-- 140584971475880 -->\n<g class=\"node\" id=\"node92\">\n<title>140584971475880</title>\n<polygon fill=\"none\" points=\"118.5,-.5 118.5,-36.5 225.5,-36.5 225.5,-.5 118.5,-.5\" stroke=\"#000000\"/>\n<text fill=\"#000000\" font-family=\"Times,serif\" font-size=\"14.00\" text-anchor=\"middle\" x=\"172\" y=\"-14.8\">dense_4: Dense</text>\n</g>\n<!-- 140584970886448&#45;&gt;140584971475880 -->\n<g class=\"edge\" id=\"edge91\">\n<title>140584970886448-&gt;140584971475880</title>\n<path d=\"M172,-73.4551C172,-65.3828 172,-55.6764 172,-46.6817\" fill=\"none\" stroke=\"#000000\"/>\n<polygon fill=\"#000000\" points=\"175.5001,-46.5903 172,-36.5904 168.5001,-46.5904 175.5001,-46.5903\" stroke=\"#000000\"/>\n</g>\n</g>\n</svg>"
          },
          "metadata": {
            "tags": []
          },
          "execution_count": 14
        }
      ]
    },
    {
      "cell_type": "markdown",
      "metadata": {
        "id": "TfLwVnher2YJ",
        "colab_type": "text"
      },
      "source": [
        "以上畫圖從 [官網文件](https://keras.io/zh/visualization/) 學來的。 改變圖形大小從 [StackOverflow](https://stackoverflow.com/questions/51452569/how-to-resize-rescale-a-svg-graphic-in-an-ipython-jupyter-notebook) 學來的。 效果好像不太好， 會被截掉。 還是用印的好了："
      ]
    },
    {
      "cell_type": "code",
      "metadata": {
        "id": "htHelBuor2YK",
        "colab_type": "code",
        "outputId": "20546bbe-8177-480d-b527-18125175e8d6",
        "colab": {
          "base_uri": "https://localhost:8080/",
          "height": 1000
        }
      },
      "source": [
        "for i,layer in enumerate(dog_behavior.layers):\n",
        "  print(i,layer.name)"
      ],
      "execution_count": 0,
      "outputs": [
        {
          "output_type": "stream",
          "text": [
            "0 input_2\n",
            "1 conv1_pad\n",
            "2 conv1\n",
            "3 conv1_bn\n",
            "4 conv1_relu\n",
            "5 conv_dw_1\n",
            "6 conv_dw_1_bn\n",
            "7 conv_dw_1_relu\n",
            "8 conv_pw_1\n",
            "9 conv_pw_1_bn\n",
            "10 conv_pw_1_relu\n",
            "11 conv_pad_2\n",
            "12 conv_dw_2\n",
            "13 conv_dw_2_bn\n",
            "14 conv_dw_2_relu\n",
            "15 conv_pw_2\n",
            "16 conv_pw_2_bn\n",
            "17 conv_pw_2_relu\n",
            "18 conv_dw_3\n",
            "19 conv_dw_3_bn\n",
            "20 conv_dw_3_relu\n",
            "21 conv_pw_3\n",
            "22 conv_pw_3_bn\n",
            "23 conv_pw_3_relu\n",
            "24 conv_pad_4\n",
            "25 conv_dw_4\n",
            "26 conv_dw_4_bn\n",
            "27 conv_dw_4_relu\n",
            "28 conv_pw_4\n",
            "29 conv_pw_4_bn\n",
            "30 conv_pw_4_relu\n",
            "31 conv_dw_5\n",
            "32 conv_dw_5_bn\n",
            "33 conv_dw_5_relu\n",
            "34 conv_pw_5\n",
            "35 conv_pw_5_bn\n",
            "36 conv_pw_5_relu\n",
            "37 conv_pad_6\n",
            "38 conv_dw_6\n",
            "39 conv_dw_6_bn\n",
            "40 conv_dw_6_relu\n",
            "41 conv_pw_6\n",
            "42 conv_pw_6_bn\n",
            "43 conv_pw_6_relu\n",
            "44 conv_dw_7\n",
            "45 conv_dw_7_bn\n",
            "46 conv_dw_7_relu\n",
            "47 conv_pw_7\n",
            "48 conv_pw_7_bn\n",
            "49 conv_pw_7_relu\n",
            "50 conv_dw_8\n",
            "51 conv_dw_8_bn\n",
            "52 conv_dw_8_relu\n",
            "53 conv_pw_8\n",
            "54 conv_pw_8_bn\n",
            "55 conv_pw_8_relu\n",
            "56 conv_dw_9\n",
            "57 conv_dw_9_bn\n",
            "58 conv_dw_9_relu\n",
            "59 conv_pw_9\n",
            "60 conv_pw_9_bn\n",
            "61 conv_pw_9_relu\n",
            "62 conv_dw_10\n",
            "63 conv_dw_10_bn\n",
            "64 conv_dw_10_relu\n",
            "65 conv_pw_10\n",
            "66 conv_pw_10_bn\n",
            "67 conv_pw_10_relu\n",
            "68 conv_dw_11\n",
            "69 conv_dw_11_bn\n",
            "70 conv_dw_11_relu\n",
            "71 conv_pw_11\n",
            "72 conv_pw_11_bn\n",
            "73 conv_pw_11_relu\n",
            "74 conv_pad_12\n",
            "75 conv_dw_12\n",
            "76 conv_dw_12_bn\n",
            "77 conv_dw_12_relu\n",
            "78 conv_pw_12\n",
            "79 conv_pw_12_bn\n",
            "80 conv_pw_12_relu\n",
            "81 conv_dw_13\n",
            "82 conv_dw_13_bn\n",
            "83 conv_dw_13_relu\n",
            "84 conv_pw_13\n",
            "85 conv_pw_13_bn\n",
            "86 conv_pw_13_relu\n",
            "87 global_average_pooling2d_2\n",
            "88 dense_1\n",
            "89 dense_2\n",
            "90 dense_3\n",
            "91 dense_4\n"
          ],
          "name": "stdout"
        }
      ]
    },
    {
      "cell_type": "markdown",
      "metadata": {
        "id": "x-FCMjyfr2YM",
        "colab_type": "text"
      },
      "source": [
        "鎖住上游大部分的權重(保留既有、訓練好的權重)，只訓練/改變下游的權重。"
      ]
    },
    {
      "cell_type": "code",
      "metadata": {
        "id": "vtL8jGR7r2YN",
        "colab_type": "code",
        "colab": {}
      },
      "source": [
        "for layer in dog_behavior.layers:\n",
        "    layer.trainable=False\n",
        "# or if we want to set the first 20 layers of the network to be non-trainable\n",
        "for layer in dog_behavior.layers[:20]:\n",
        "    layer.trainable=False\n",
        "for layer in dog_behavior.layers[20:]:\n",
        "    layer.trainable=True"
      ],
      "execution_count": 0,
      "outputs": []
    },
    {
      "cell_type": "markdown",
      "metadata": {
        "id": "r2BSPpx6r2YP",
        "colab_type": "text"
      },
      "source": [
        "把訓練資料目錄餵給 ImageDataGenerator 。"
      ]
    },
    {
      "cell_type": "code",
      "metadata": {
        "id": "Hzx6g7iLr2YQ",
        "colab_type": "code",
        "outputId": "77c6dbc5-4f4e-44d8-b9fd-4e8961a6eab1",
        "colab": {
          "base_uri": "https://localhost:8080/",
          "height": 34
        }
      },
      "source": [
        "train_datagen=ImageDataGenerator(preprocessing_function=preprocess_input) #included in our dependencies\n",
        "\n",
        "train_generator=train_datagen.flow_from_directory(\n",
        "    'dog_behaviors', target_size=(224,224), batch_size=32,\n",
        "    class_mode='categorical', color_mode='rgb', shuffle=True\n",
        ")\n",
        "label2id = train_generator.class_indices\n",
        "id2label = [label2id[x] for x in label2id]\n",
        "id2label = dict((v,k) for k,v in label2id.items())"
      ],
      "execution_count": 0,
      "outputs": [
        {
          "output_type": "stream",
          "text": [
            "Found 464 images belonging to 7 classes.\n"
          ],
          "name": "stdout"
        }
      ]
    },
    {
      "cell_type": "markdown",
      "metadata": {
        "id": "m6AB8E15r2YS",
        "colab_type": "text"
      },
      "source": [
        "編譯完模型之後， 在 google colab 上用 GPU 訓練， 大約五分鐘。"
      ]
    },
    {
      "cell_type": "code",
      "metadata": {
        "id": "qb7oAzRzr2YT",
        "colab_type": "code",
        "outputId": "60e2b989-9dff-40af-c4b9-ab2c7f3e0103",
        "colab": {
          "base_uri": "https://localhost:8080/",
          "height": 574
        }
      },
      "source": [
        "dog_behavior.compile(optimizer='Adam',loss='categorical_crossentropy',metrics=['accuracy'])\n",
        "# Adam optimizer\n",
        "# loss function will be categorical cross entropy\n",
        "# evaluation metric will be accuracy\n",
        "\n",
        "step_size_train=train_generator.n//train_generator.batch_size\n",
        "dog_behavior.fit_generator(\n",
        "    generator=train_generator,\n",
        "    steps_per_epoch=step_size_train,\n",
        "    epochs=10\n",
        ")"
      ],
      "execution_count": 0,
      "outputs": [
        {
          "output_type": "stream",
          "text": [
            "WARNING:tensorflow:From /usr/local/lib/python3.6/dist-packages/keras/optimizers.py:793: The name tf.train.Optimizer is deprecated. Please use tf.compat.v1.train.Optimizer instead.\n",
            "\n",
            "WARNING:tensorflow:From /usr/local/lib/python3.6/dist-packages/keras/backend/tensorflow_backend.py:3576: The name tf.log is deprecated. Please use tf.math.log instead.\n",
            "\n",
            "WARNING:tensorflow:From /usr/local/lib/python3.6/dist-packages/tensorflow_core/python/ops/math_grad.py:1424: where (from tensorflow.python.ops.array_ops) is deprecated and will be removed in a future version.\n",
            "Instructions for updating:\n",
            "Use tf.where in 2.0, which has the same broadcast rule as np.where\n",
            "WARNING:tensorflow:From /usr/local/lib/python3.6/dist-packages/keras/backend/tensorflow_backend.py:1033: The name tf.assign_add is deprecated. Please use tf.compat.v1.assign_add instead.\n",
            "\n",
            "WARNING:tensorflow:From /usr/local/lib/python3.6/dist-packages/keras/backend/tensorflow_backend.py:1020: The name tf.assign is deprecated. Please use tf.compat.v1.assign instead.\n",
            "\n",
            "Epoch 1/10\n",
            "14/14 [==============================] - 241s 17s/step - loss: 1.7089 - acc: 0.4596\n",
            "Epoch 2/10\n",
            "14/14 [==============================] - 25s 2s/step - loss: 0.5600 - acc: 0.8080\n",
            "Epoch 3/10\n",
            "14/14 [==============================] - 7s 503ms/step - loss: 0.3795 - acc: 0.8780\n",
            "Epoch 4/10\n",
            "14/14 [==============================] - 8s 540ms/step - loss: 0.1719 - acc: 0.9464\n",
            "Epoch 5/10\n",
            "14/14 [==============================] - 7s 517ms/step - loss: 0.3420 - acc: 0.9173\n",
            "Epoch 6/10\n",
            "14/14 [==============================] - 7s 532ms/step - loss: 0.2985 - acc: 0.9151\n",
            "Epoch 7/10\n",
            "14/14 [==============================] - 7s 532ms/step - loss: 0.1929 - acc: 0.9488\n",
            "Epoch 8/10\n",
            "14/14 [==============================] - 8s 557ms/step - loss: 0.2286 - acc: 0.9509\n",
            "Epoch 9/10\n",
            "14/14 [==============================] - 7s 529ms/step - loss: 0.2043 - acc: 0.9327\n",
            "Epoch 10/10\n",
            "14/14 [==============================] - 8s 546ms/step - loss: 0.0946 - acc: 0.9732\n"
          ],
          "name": "stdout"
        },
        {
          "output_type": "execute_result",
          "data": {
            "text/plain": [
              "<keras.callbacks.History at 0x7fdc6f090908>"
            ]
          },
          "metadata": {
            "tags": []
          },
          "execution_count": 24
        }
      ]
    },
    {
      "cell_type": "markdown",
      "metadata": {
        "id": "EJ4zzGper2YW",
        "colab_type": "text"
      },
      "source": [
        "測試已訓練好的 dog_behavior 模型"
      ]
    },
    {
      "cell_type": "code",
      "metadata": {
        "id": "C88jXWfVr2YW",
        "colab_type": "code",
        "colab": {}
      },
      "source": [
        "def behavior_cl(image_path, show=True):\n",
        "    prepared = prepare_image(image_path)\n",
        "    ans = dog_behavior.predict(prepared)[0]\n",
        "    best = sorted(range(len(ans)), key=lambda k: -ans[k])[:5]\n",
        "    return ['{:6.2f}% {}'.format(ans[id]*100,id2label[id]) for id in best]\n"
      ],
      "execution_count": 0,
      "outputs": []
    },
    {
      "cell_type": "code",
      "metadata": {
        "id": "yGpegf8cMB1y",
        "colab_type": "code",
        "outputId": "50ddfb9e-0f6e-4418-e501-fa9b5c63e2f8",
        "colab": {
          "base_uri": "https://localhost:8080/",
          "height": 235
        }
      },
      "source": [
        "!ls"
      ],
      "execution_count": 0,
      "outputs": [
        {
          "output_type": "stream",
          "text": [
            " 220px-Poecile-atricapilla-001.jpg\n",
            " blue_tit.jpg\n",
            " crow.jpg\n",
            " dog_behaviors\n",
            " exam\n",
            " German_Shepherd.jpg\n",
            " labrador1.jpg\n",
            "'MobileNet architecture.PNG'\n",
            " mobilenet_v1.png\n",
            " poodle1.jpg\n",
            " quiz\n",
            " shiba-inu.jpg\n",
            "'Transfer Learning in Keras using MobileNet.ipynb'\n"
          ],
          "name": "stdout"
        }
      ]
    },
    {
      "cell_type": "code",
      "metadata": {
        "id": "SWrqc3MoJhCm",
        "colab_type": "code",
        "colab": {}
      },
      "source": [
        "from glob import glob\n",
        "for f in sorted(glob('quiz/*.jpg')):\n",
        "    print(f, behavior_cl(f))"
      ],
      "execution_count": 0,
      "outputs": []
    },
    {
      "cell_type": "code",
      "metadata": {
        "id": "O7S545OrODom",
        "colab_type": "code",
        "colab": {}
      },
      "source": [
        ""
      ],
      "execution_count": 0,
      "outputs": []
    }
  ]
}
